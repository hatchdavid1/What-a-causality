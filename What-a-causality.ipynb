{
 "cells": [
  {
   "cell_type": "markdown",
   "metadata": {},
   "source": [
    "# Churn with causality "
   ]
  },
  {
   "cell_type": "markdown",
   "metadata": {},
   "source": [
    "This analysisi will show the main reason why clients stop using our server"
   ]
  },
  {
   "cell_type": "code",
   "execution_count": 1,
   "metadata": {},
   "outputs": [
    {
     "data": {
      "text/html": [
       "        <script type=\"text/javascript\">\n",
       "        window.PlotlyConfig = {MathJaxConfig: 'local'};\n",
       "        if (window.MathJax) {MathJax.Hub.Config({SVG: {font: \"STIX-Web\"}});}\n",
       "        if (typeof require !== 'undefined') {\n",
       "        require.undef(\"plotly\");\n",
       "        requirejs.config({\n",
       "            paths: {\n",
       "                'plotly': ['https://cdn.plot.ly/plotly-latest.min']\n",
       "            }\n",
       "        });\n",
       "        require(['plotly'], function(Plotly) {\n",
       "            window._Plotly = Plotly;\n",
       "        });\n",
       "        }\n",
       "        </script>\n",
       "        "
      ]
     },
     "metadata": {},
     "output_type": "display_data"
    }
   ],
   "source": [
    "# Main libraries\n",
    "import pandas as pd \n",
    "import numpy as np\n",
    "import matplotlib.pyplot as plt \n",
    "import seaborn as sns \n",
    "import plotly\n",
    "import datetime\n",
    "from causalnex.structure import StructureModel\n",
    "from sklearn.preprocessing import LabelEncoder\n",
    "from causalnex.structure.notears import from_pandas\n",
    "from causalnex.discretiser import Discretiser\n",
    "from sklearn.model_selection import train_test_split\n",
    "from causalnex.network import BayesianNetwork\n",
    "import chart_studio.plotly as py\n",
    "import cufflinks as cf\n",
    "from lifelines import KaplanMeierFitter\n",
    "cf.go_offline()\n",
    "from causalnex.evaluation import classification_report\n",
    "from causalnex.evaluation import roc_auc\n",
    "from causalnex.inference import InferenceEngine"
   ]
  },
  {
   "cell_type": "markdown",
   "metadata": {},
   "source": [
    "# Loading data\n",
    "Loading churn and not churn data to clean and prepare for causal model"
   ]
  },
  {
   "cell_type": "code",
   "execution_count": 2,
   "metadata": {},
   "outputs": [],
   "source": [
    "# churn and not churn databases\n",
    "hs_churn = pd.read_csv('C:/Users/Data Analyst/Documents/Otros/Proyecto churn/mx-so-daily-churn-data.csv')\n",
    "hs_nochurn = pd.read_csv('C:/Users/Data Analyst/Documents/Otros/Proyecto churn/mx-so-batch-1.csv')"
   ]
  },
  {
   "cell_type": "code",
   "execution_count": 3,
   "metadata": {},
   "outputs": [
    {
     "data": {
      "text/plain": [
       "Index(['Contact ID', 'Doctor - Has calendar [Batch]',\n",
       "       'Doctor - Has own website? (S) [Manual] ',\n",
       "       'Doctor - Profile Completeness - Percentage [Batch]',\n",
       "       'Doctor - Specialisation 1 [Batch]', 'Doctor - Verified [batch]',\n",
       "       'Email Confirmed', 'First Name', 'Last Name', 'Contact owner', 'City',\n",
       "       'HubSpot Team', 'Postal Code', 'Country [batch]', 'Close Date',\n",
       "       'Doctor - Onboarding Completed at (non commercial)',\n",
       "       'Doctor - Profile Scoring',\n",
       "       'Doctor - Gross Price of Premium Subscription - Currency type  [Batch]',\n",
       "       'Doctor - Website - became customer at [batch]',\n",
       "       'Doctor verified email [Batch]',\n",
       "       'Doctor/Facility - Last Premium date [WF]',\n",
       "       'Internal - Contact result [Manual]',\n",
       "       'Internal - Last Sales Owner [WF]', 'Internal - Sold by (DA)',\n",
       "       'Doctor - Scoring at [WF]',\n",
       "       ' Doctor - Pre-onboarding completed [Batch]',\n",
       "       ' Doctor - Pre-onboarding completed at [Batch]',\n",
       "       'Doctor - After first call at - Stage in the process [WF]',\n",
       "       'Doctor - Bought website service? [Batch]',\n",
       "       'Doctor - Farming at - Lifecycle stage [WF]',\n",
       "       'Doctor - Farming at - Stage in the process [WF]',\n",
       "       'Doctor - Health Group [WF]', 'Doctor - Last CS Owner [WF]',\n",
       "       'Doctor - Onboarding at - Lifecycle stage [WF]',\n",
       "       'Doctor - Onboarding owner (CX) [WF]',\n",
       "       'Doctor - Sold with website [Manual]',\n",
       "       'Doctor - Stage in the process [WF]',\n",
       "       'Doctor/Facility - Lifecycle stage [WF]',\n",
       "       'Doctor/Facility - Onboarding type [WF/manual]',\n",
       "       'Doctor/Facility - Payment method [Batch]',\n",
       "       'Docplanner Category [batch]', 'Doctor - Commercial [Batch]',\n",
       "       'Doctor - Commercial from (last date) [Batch]',\n",
       "       'Doctor - Registration Phone Number [Batch]',\n",
       "       'Doctor stats - Visits (booked by user) count [batch]', 'Company ID',\n",
       "       'Name', 'Phone Number', 'City.1', 'Company owner', 'Last Activity Date',\n",
       "       'Country/Region', 'Industry', 'Create Date'],\n",
       "      dtype='object')"
      ]
     },
     "execution_count": 3,
     "metadata": {},
     "output_type": "execute_result"
    }
   ],
   "source": [
    "# columns/variables for churn data base\n",
    "hs_churn.columns"
   ]
  },
  {
   "cell_type": "code",
   "execution_count": 4,
   "metadata": {},
   "outputs": [
    {
     "data": {
      "text/plain": [
       "Index(['Contact ID', 'Doctor - Has calendar [Batch]',\n",
       "       'Doctor - Has own website? (S) [Manual] ',\n",
       "       'Doctor - Profile Completeness - Percentage [Batch]',\n",
       "       'Doctor - Specialisation 1 [Batch]', 'First Name', 'Last Name',\n",
       "       'Contact owner', 'HubSpot Team', 'Country [batch]', 'Close Date',\n",
       "       'Doctor - Onboarding Completed at (non commercial)',\n",
       "       'Doctor - Profile Scoring',\n",
       "       'Doctor - Gross Price of Premium Subscription - Currency type  [Batch]',\n",
       "       'Doctor - Website - became customer at [batch]',\n",
       "       'Doctor verified email [Batch]',\n",
       "       'Doctor/Facility - Last Premium date [WF]',\n",
       "       'Internal - Contact result [Manual]',\n",
       "       'Internal - Last Sales Owner [WF]', 'Internal - Sold by (DA)',\n",
       "       'Doctor - Scoring at [WF]',\n",
       "       ' Doctor - Pre-onboarding completed [Batch]',\n",
       "       ' Doctor - Pre-onboarding completed at [Batch]',\n",
       "       'Doctor - After first call at - Stage in the process [WF]',\n",
       "       'Doctor - Bought website service? [Batch]',\n",
       "       'Doctor - Farming at - Lifecycle stage [WF]',\n",
       "       'Doctor - Farming at - Stage in the process [WF]',\n",
       "       'Doctor - Health Group [WF]', 'Doctor - Last CS Owner [WF]',\n",
       "       'Doctor - Onboarding at - Lifecycle stage [WF]',\n",
       "       'Doctor - Onboarding owner (CX) [WF]',\n",
       "       'Doctor - Sold with website [Manual]',\n",
       "       'Doctor - Stage in the process [WF]',\n",
       "       'Doctor/Facility - Lifecycle stage [WF]',\n",
       "       'Doctor/Facility - Onboarding type [WF/manual]',\n",
       "       'Doctor/Facility - Payment method [Batch]',\n",
       "       'Docplanner Category [batch]', 'Doctor - Commercial [Batch]',\n",
       "       'Doctor - Commercial from (last date) [Batch]',\n",
       "       'Doctor - Registration Phone Number [Batch]',\n",
       "       'Doctor stats - Visits (booked by user) count [batch]', 'Company ID',\n",
       "       'Name', 'Phone Number', 'City', 'Company owner', 'Last Activity Date',\n",
       "       'Country/Region', 'Industry', 'Create Date'],\n",
       "      dtype='object')"
      ]
     },
     "execution_count": 4,
     "metadata": {},
     "output_type": "execute_result"
    }
   ],
   "source": [
    "# columns/variables for not churn \n",
    "hs_nochurn.columns "
   ]
  },
  {
   "cell_type": "code",
   "execution_count": 5,
   "metadata": {},
   "outputs": [],
   "source": [
    "# Most important varible selection\n",
    "hs_churn_clean = hs_churn[['Contact ID','Doctor - Has calendar [Batch]','Contact owner','City','HubSpot Team',\n",
    "                          'Doctor - Profile Scoring','Internal - Contact result [Manual]',\n",
    "                          'Internal - Last Sales Owner [WF]', 'Internal - Sold by (DA)',' Doctor - Pre-onboarding completed [Batch]',\n",
    "                          'Doctor - Bought website service? [Batch]','Doctor - Health Group [WF]', 'Doctor - Last CS Owner [WF]',\n",
    "                          'Doctor - Onboarding owner (CX) [WF]','Doctor - Sold with website [Manual]','Doctor - Stage in the process [WF]',\n",
    "                          'Doctor/Facility - Lifecycle stage [WF]','Doctor/Facility - Onboarding type [WF/manual]','Doctor/Facility - Payment method [Batch]',\n",
    "                          'Docplanner Category [batch]', 'Doctor - Commercial [Batch]']]\n",
    "hs_nochurn_clean = hs_nochurn[['Contact ID','Doctor - Has calendar [Batch]','Contact owner','City','HubSpot Team',\n",
    "                          'Doctor - Profile Scoring','Internal - Contact result [Manual]',\n",
    "                          'Internal - Last Sales Owner [WF]', 'Internal - Sold by (DA)',' Doctor - Pre-onboarding completed [Batch]',\n",
    "                          'Doctor - Bought website service? [Batch]','Doctor - Health Group [WF]', 'Doctor - Last CS Owner [WF]',\n",
    "                          'Doctor - Onboarding owner (CX) [WF]','Doctor - Sold with website [Manual]','Doctor - Stage in the process [WF]',\n",
    "                          'Doctor/Facility - Lifecycle stage [WF]','Doctor/Facility - Onboarding type [WF/manual]','Doctor/Facility - Payment method [Batch]',\n",
    "                          'Docplanner Category [batch]', 'Doctor - Commercial [Batch]']]"
   ]
  },
  {
   "cell_type": "code",
   "execution_count": 6,
   "metadata": {},
   "outputs": [
    {
     "data": {
      "text/html": [
       "<div>\n",
       "<style scoped>\n",
       "    .dataframe tbody tr th:only-of-type {\n",
       "        vertical-align: middle;\n",
       "    }\n",
       "\n",
       "    .dataframe tbody tr th {\n",
       "        vertical-align: top;\n",
       "    }\n",
       "\n",
       "    .dataframe thead th {\n",
       "        text-align: right;\n",
       "    }\n",
       "</style>\n",
       "<table border=\"1\" class=\"dataframe\">\n",
       "  <thead>\n",
       "    <tr style=\"text-align: right;\">\n",
       "      <th></th>\n",
       "      <th>Contact ID</th>\n",
       "      <th>Doctor - Has calendar [Batch]</th>\n",
       "      <th>Contact owner</th>\n",
       "      <th>City</th>\n",
       "      <th>HubSpot Team</th>\n",
       "      <th>Doctor - Profile Scoring</th>\n",
       "      <th>Internal - Contact result [Manual]</th>\n",
       "      <th>Internal - Last Sales Owner [WF]</th>\n",
       "      <th>Internal - Sold by (DA)</th>\n",
       "      <th>Doctor - Pre-onboarding completed [Batch]</th>\n",
       "      <th>...</th>\n",
       "      <th>Doctor - Health Group [WF]</th>\n",
       "      <th>Doctor - Last CS Owner [WF]</th>\n",
       "      <th>Doctor - Onboarding owner (CX) [WF]</th>\n",
       "      <th>Doctor - Sold with website [Manual]</th>\n",
       "      <th>Doctor - Stage in the process [WF]</th>\n",
       "      <th>Doctor/Facility - Lifecycle stage [WF]</th>\n",
       "      <th>Doctor/Facility - Onboarding type [WF/manual]</th>\n",
       "      <th>Doctor/Facility - Payment method [Batch]</th>\n",
       "      <th>Docplanner Category [batch]</th>\n",
       "      <th>Doctor - Commercial [Batch]</th>\n",
       "    </tr>\n",
       "  </thead>\n",
       "  <tbody>\n",
       "    <tr>\n",
       "      <th>0</th>\n",
       "      <td>58020208</td>\n",
       "      <td>No</td>\n",
       "      <td>Data Quality</td>\n",
       "      <td>San Luis Potosi</td>\n",
       "      <td>Permission level 9</td>\n",
       "      <td>12.0</td>\n",
       "      <td>Deal Created [TR]</td>\n",
       "      <td>janet ramirez herrera</td>\n",
       "      <td>NaN</td>\n",
       "      <td>NaN</td>\n",
       "      <td>...</td>\n",
       "      <td>NaN</td>\n",
       "      <td>NaN</td>\n",
       "      <td>NaN</td>\n",
       "      <td>NaN</td>\n",
       "      <td>NaN</td>\n",
       "      <td>NaN</td>\n",
       "      <td>NaN</td>\n",
       "      <td>Bank transfer</td>\n",
       "      <td>NaN</td>\n",
       "      <td>0</td>\n",
       "    </tr>\n",
       "    <tr>\n",
       "      <th>1</th>\n",
       "      <td>58020464</td>\n",
       "      <td>No</td>\n",
       "      <td>María del Carmen Curiel González</td>\n",
       "      <td>Naucalpan de Juárez</td>\n",
       "      <td>MX_CS_FAR_1</td>\n",
       "      <td>8.0</td>\n",
       "      <td>NaN</td>\n",
       "      <td>NaN</td>\n",
       "      <td>NaN</td>\n",
       "      <td>NaN</td>\n",
       "      <td>...</td>\n",
       "      <td>NaN</td>\n",
       "      <td>NaN</td>\n",
       "      <td>NaN</td>\n",
       "      <td>NaN</td>\n",
       "      <td>NaN</td>\n",
       "      <td>NaN</td>\n",
       "      <td>NaN</td>\n",
       "      <td>Bank transfer</td>\n",
       "      <td>NaN</td>\n",
       "      <td>0</td>\n",
       "    </tr>\n",
       "  </tbody>\n",
       "</table>\n",
       "<p>2 rows × 21 columns</p>\n",
       "</div>"
      ],
      "text/plain": [
       "   Contact ID Doctor - Has calendar [Batch]                     Contact owner  \\\n",
       "0    58020208                            No                      Data Quality   \n",
       "1    58020464                            No  María del Carmen Curiel González   \n",
       "\n",
       "                  City        HubSpot Team  Doctor - Profile Scoring  \\\n",
       "0      San Luis Potosi  Permission level 9                      12.0   \n",
       "1  Naucalpan de Juárez         MX_CS_FAR_1                       8.0   \n",
       "\n",
       "  Internal - Contact result [Manual] Internal - Last Sales Owner [WF]  \\\n",
       "0                  Deal Created [TR]            janet ramirez herrera   \n",
       "1                                NaN                              NaN   \n",
       "\n",
       "  Internal - Sold by (DA)  Doctor - Pre-onboarding completed [Batch]  ...  \\\n",
       "0                     NaN                                        NaN  ...   \n",
       "1                     NaN                                        NaN  ...   \n",
       "\n",
       "   Doctor - Health Group [WF] Doctor - Last CS Owner [WF]  \\\n",
       "0                         NaN                         NaN   \n",
       "1                         NaN                         NaN   \n",
       "\n",
       "  Doctor - Onboarding owner (CX) [WF] Doctor - Sold with website [Manual]  \\\n",
       "0                                 NaN                                 NaN   \n",
       "1                                 NaN                                 NaN   \n",
       "\n",
       "  Doctor - Stage in the process [WF] Doctor/Facility - Lifecycle stage [WF]  \\\n",
       "0                                NaN                                    NaN   \n",
       "1                                NaN                                    NaN   \n",
       "\n",
       "  Doctor/Facility - Onboarding type [WF/manual]  \\\n",
       "0                                           NaN   \n",
       "1                                           NaN   \n",
       "\n",
       "  Doctor/Facility - Payment method [Batch] Docplanner Category [batch]  \\\n",
       "0                            Bank transfer                         NaN   \n",
       "1                            Bank transfer                         NaN   \n",
       "\n",
       "  Doctor - Commercial [Batch]  \n",
       "0                           0  \n",
       "1                           0  \n",
       "\n",
       "[2 rows x 21 columns]"
      ]
     },
     "execution_count": 6,
     "metadata": {},
     "output_type": "execute_result"
    }
   ],
   "source": [
    "hs_churn_clean.head(2) # testing if data frame column order adjust"
   ]
  },
  {
   "cell_type": "code",
   "execution_count": 7,
   "metadata": {},
   "outputs": [
    {
     "data": {
      "text/html": [
       "<div>\n",
       "<style scoped>\n",
       "    .dataframe tbody tr th:only-of-type {\n",
       "        vertical-align: middle;\n",
       "    }\n",
       "\n",
       "    .dataframe tbody tr th {\n",
       "        vertical-align: top;\n",
       "    }\n",
       "\n",
       "    .dataframe thead th {\n",
       "        text-align: right;\n",
       "    }\n",
       "</style>\n",
       "<table border=\"1\" class=\"dataframe\">\n",
       "  <thead>\n",
       "    <tr style=\"text-align: right;\">\n",
       "      <th></th>\n",
       "      <th>Contact ID</th>\n",
       "      <th>Doctor - Has calendar [Batch]</th>\n",
       "      <th>Contact owner</th>\n",
       "      <th>City</th>\n",
       "      <th>HubSpot Team</th>\n",
       "      <th>Doctor - Profile Scoring</th>\n",
       "      <th>Internal - Contact result [Manual]</th>\n",
       "      <th>Internal - Last Sales Owner [WF]</th>\n",
       "      <th>Internal - Sold by (DA)</th>\n",
       "      <th>Doctor - Pre-onboarding completed [Batch]</th>\n",
       "      <th>...</th>\n",
       "      <th>Doctor - Health Group [WF]</th>\n",
       "      <th>Doctor - Last CS Owner [WF]</th>\n",
       "      <th>Doctor - Onboarding owner (CX) [WF]</th>\n",
       "      <th>Doctor - Sold with website [Manual]</th>\n",
       "      <th>Doctor - Stage in the process [WF]</th>\n",
       "      <th>Doctor/Facility - Lifecycle stage [WF]</th>\n",
       "      <th>Doctor/Facility - Onboarding type [WF/manual]</th>\n",
       "      <th>Doctor/Facility - Payment method [Batch]</th>\n",
       "      <th>Docplanner Category [batch]</th>\n",
       "      <th>Doctor - Commercial [Batch]</th>\n",
       "    </tr>\n",
       "  </thead>\n",
       "  <tbody>\n",
       "    <tr>\n",
       "      <th>0</th>\n",
       "      <td>58015869</td>\n",
       "      <td>Yes</td>\n",
       "      <td>Miguel Varela Cid</td>\n",
       "      <td>NaN</td>\n",
       "      <td>MX_CS_FAR_1</td>\n",
       "      <td>7.0</td>\n",
       "      <td>NaN</td>\n",
       "      <td>NaN</td>\n",
       "      <td>NaN</td>\n",
       "      <td>NaN</td>\n",
       "      <td>...</td>\n",
       "      <td>Sick</td>\n",
       "      <td>NaN</td>\n",
       "      <td>NaN</td>\n",
       "      <td>NaN</td>\n",
       "      <td>farming</td>\n",
       "      <td>Farming</td>\n",
       "      <td>Standard onboarding</td>\n",
       "      <td>Bank transfer</td>\n",
       "      <td>Instasuperzombie</td>\n",
       "      <td>1</td>\n",
       "    </tr>\n",
       "    <tr>\n",
       "      <th>1</th>\n",
       "      <td>58016381</td>\n",
       "      <td>Yes</td>\n",
       "      <td>Francisco Flores González</td>\n",
       "      <td>NaN</td>\n",
       "      <td>MX_CS_FAR_1</td>\n",
       "      <td>12.0</td>\n",
       "      <td>NaN</td>\n",
       "      <td>Daniela Ortega</td>\n",
       "      <td>NaN</td>\n",
       "      <td>NaN</td>\n",
       "      <td>...</td>\n",
       "      <td>Mid-Healthy</td>\n",
       "      <td>Adelaida Garcia Espino</td>\n",
       "      <td>NaN</td>\n",
       "      <td>NaN</td>\n",
       "      <td>farming</td>\n",
       "      <td>Farming</td>\n",
       "      <td>Standard onboarding</td>\n",
       "      <td>Bank transfer</td>\n",
       "      <td>Engaged</td>\n",
       "      <td>1</td>\n",
       "    </tr>\n",
       "  </tbody>\n",
       "</table>\n",
       "<p>2 rows × 21 columns</p>\n",
       "</div>"
      ],
      "text/plain": [
       "   Contact ID Doctor - Has calendar [Batch]              Contact owner City  \\\n",
       "0    58015869                           Yes          Miguel Varela Cid  NaN   \n",
       "1    58016381                           Yes  Francisco Flores González  NaN   \n",
       "\n",
       "  HubSpot Team  Doctor - Profile Scoring Internal - Contact result [Manual]  \\\n",
       "0  MX_CS_FAR_1                       7.0                                NaN   \n",
       "1  MX_CS_FAR_1                      12.0                                NaN   \n",
       "\n",
       "  Internal - Last Sales Owner [WF] Internal - Sold by (DA)  \\\n",
       "0                              NaN                     NaN   \n",
       "1                   Daniela Ortega                     NaN   \n",
       "\n",
       "   Doctor - Pre-onboarding completed [Batch]  ...  Doctor - Health Group [WF]  \\\n",
       "0                                        NaN  ...                        Sick   \n",
       "1                                        NaN  ...                 Mid-Healthy   \n",
       "\n",
       "  Doctor - Last CS Owner [WF] Doctor - Onboarding owner (CX) [WF]  \\\n",
       "0                         NaN                                 NaN   \n",
       "1      Adelaida Garcia Espino                                 NaN   \n",
       "\n",
       "  Doctor - Sold with website [Manual] Doctor - Stage in the process [WF]  \\\n",
       "0                                 NaN                            farming   \n",
       "1                                 NaN                            farming   \n",
       "\n",
       "  Doctor/Facility - Lifecycle stage [WF]  \\\n",
       "0                                Farming   \n",
       "1                                Farming   \n",
       "\n",
       "  Doctor/Facility - Onboarding type [WF/manual]  \\\n",
       "0                           Standard onboarding   \n",
       "1                           Standard onboarding   \n",
       "\n",
       "  Doctor/Facility - Payment method [Batch] Docplanner Category [batch]  \\\n",
       "0                            Bank transfer            Instasuperzombie   \n",
       "1                            Bank transfer                     Engaged   \n",
       "\n",
       "  Doctor - Commercial [Batch]  \n",
       "0                           1  \n",
       "1                           1  \n",
       "\n",
       "[2 rows x 21 columns]"
      ]
     },
     "execution_count": 7,
     "metadata": {},
     "output_type": "execute_result"
    }
   ],
   "source": [
    "hs_nochurn_clean.head(2) # testing if data frame column order adjust"
   ]
  },
  {
   "cell_type": "code",
   "execution_count": 8,
   "metadata": {},
   "outputs": [
    {
     "name": "stdout",
     "output_type": "stream",
     "text": [
      "(8271, 21) (10156, 21)\n"
     ]
    }
   ],
   "source": [
    "print(hs_churn_clean.shape, hs_nochurn_clean.shape) # validating shapes for dataframes append"
   ]
  },
  {
   "cell_type": "code",
   "execution_count": 9,
   "metadata": {},
   "outputs": [],
   "source": [
    "churn_nochurn = hs_churn_clean.append(hs_nochurn_clean, ignore_index = True) # appending dataframes"
   ]
  },
  {
   "cell_type": "markdown",
   "metadata": {},
   "source": [
    "# Data cleaning \n",
    "Cleaning null contacts and changing column types."
   ]
  },
  {
   "cell_type": "code",
   "execution_count": 10,
   "metadata": {},
   "outputs": [
    {
     "name": "stdout",
     "output_type": "stream",
     "text": [
      "<class 'pandas.core.frame.DataFrame'>\n",
      "RangeIndex: 18427 entries, 0 to 18426\n",
      "Data columns (total 21 columns):\n",
      "Contact ID                                       18427 non-null int64\n",
      "Doctor - Has calendar [Batch]                    18418 non-null object\n",
      "Contact owner                                    14066 non-null object\n",
      "City                                             8306 non-null object\n",
      "HubSpot Team                                     13980 non-null object\n",
      "Doctor - Profile Scoring                         18427 non-null float64\n",
      "Internal - Contact result [Manual]               10211 non-null object\n",
      "Internal - Last Sales Owner [WF]                 14649 non-null object\n",
      "Internal - Sold by (DA)                          11358 non-null object\n",
      " Doctor - Pre-onboarding completed [Batch]       597 non-null object\n",
      "Doctor - Bought website service? [Batch]         18412 non-null float64\n",
      "Doctor - Health Group [WF]                       10110 non-null object\n",
      "Doctor - Last CS Owner [WF]                      5359 non-null object\n",
      "Doctor - Onboarding owner (CX) [WF]              4030 non-null object\n",
      "Doctor - Sold with website [Manual]              54 non-null object\n",
      "Doctor - Stage in the process [WF]               10344 non-null object\n",
      "Doctor/Facility - Lifecycle stage [WF]           10344 non-null object\n",
      "Doctor/Facility - Onboarding type [WF/manual]    10557 non-null object\n",
      "Doctor/Facility - Payment method [Batch]         18090 non-null object\n",
      "Docplanner Category [batch]                      10321 non-null object\n",
      "Doctor - Commercial [Batch]                      18427 non-null int64\n",
      "dtypes: float64(2), int64(2), object(17)\n",
      "memory usage: 3.0+ MB\n"
     ]
    }
   ],
   "source": [
    "churn_nochurn.info()"
   ]
  },
  {
   "cell_type": "code",
   "execution_count": 11,
   "metadata": {},
   "outputs": [],
   "source": [
    "general = churn_nochurn.fillna('-') # Filling null values wiht '-'"
   ]
  },
  {
   "cell_type": "code",
   "execution_count": 12,
   "metadata": {},
   "outputs": [
    {
     "name": "stdout",
     "output_type": "stream",
     "text": [
      "<class 'pandas.core.frame.DataFrame'>\n",
      "RangeIndex: 18427 entries, 0 to 18426\n",
      "Data columns (total 21 columns):\n",
      "Contact ID                                       18427 non-null int64\n",
      "Doctor - Has calendar [Batch]                    18427 non-null object\n",
      "Contact owner                                    18427 non-null object\n",
      "City                                             18427 non-null object\n",
      "HubSpot Team                                     18427 non-null object\n",
      "Doctor - Profile Scoring                         18427 non-null float64\n",
      "Internal - Contact result [Manual]               18427 non-null object\n",
      "Internal - Last Sales Owner [WF]                 18427 non-null object\n",
      "Internal - Sold by (DA)                          18427 non-null object\n",
      " Doctor - Pre-onboarding completed [Batch]       18427 non-null object\n",
      "Doctor - Bought website service? [Batch]         18427 non-null object\n",
      "Doctor - Health Group [WF]                       18427 non-null object\n",
      "Doctor - Last CS Owner [WF]                      18427 non-null object\n",
      "Doctor - Onboarding owner (CX) [WF]              18427 non-null object\n",
      "Doctor - Sold with website [Manual]              18427 non-null object\n",
      "Doctor - Stage in the process [WF]               18427 non-null object\n",
      "Doctor/Facility - Lifecycle stage [WF]           18427 non-null object\n",
      "Doctor/Facility - Onboarding type [WF/manual]    18427 non-null object\n",
      "Doctor/Facility - Payment method [Batch]         18427 non-null object\n",
      "Docplanner Category [batch]                      18427 non-null object\n",
      "Doctor - Commercial [Batch]                      18427 non-null int64\n",
      "dtypes: float64(1), int64(2), object(18)\n",
      "memory usage: 3.0+ MB\n"
     ]
    }
   ],
   "source": [
    "general.info()"
   ]
  },
  {
   "cell_type": "code",
   "execution_count": 14,
   "metadata": {},
   "outputs": [],
   "source": [
    "# discretizing numerical variables\n",
    "churn_nochurn['Doctor - Profile Scoring']=Discretiser(method='fixed',\n",
    "                             numeric_split_points=[1, 2]).transform(churn_nochurn['Doctor - Profile Scoring'].values)"
   ]
  },
  {
   "cell_type": "code",
   "execution_count": null,
   "metadata": {},
   "outputs": [],
   "source": [
    "general.drop(columns = ['Internal - Contact result [Manual]','Internal - Last Sales Owner [WF]',\n",
    "                       'Internal - Sold by (DA)',' Doctor - Pre-onboarding completed [Batch]',\n",
    "                       'Doctor - Bought website service? [Batch]'],inplace = True)"
   ]
  },
  {
   "cell_type": "code",
   "execution_count": 22,
   "metadata": {},
   "outputs": [
    {
     "data": {
      "text/plain": [
       "['Doctor - Health Group [WF]',\n",
       " 'Doctor - Last CS Owner [WF]',\n",
       " 'Doctor - Onboarding owner (CX) [WF]',\n",
       " 'Doctor - Sold with website [Manual]',\n",
       " 'Doctor - Stage in the process [WF]',\n",
       " 'Doctor/Facility - Lifecycle stage [WF]',\n",
       " 'Doctor/Facility - Onboarding type [WF/manual]',\n",
       " 'Doctor/Facility - Payment method [Batch]',\n",
       " 'Docplanner Category [batch]']"
      ]
     },
     "execution_count": 22,
     "metadata": {},
     "output_type": "execute_result"
    }
   ],
   "source": [
    "non_numeric_columns=list(general.select_dtypes(exclude=[np.number]).columns)\n",
    "non_numeric_columns"
   ]
  },
  {
   "cell_type": "code",
   "execution_count": 23,
   "metadata": {},
   "outputs": [
    {
     "data": {
      "text/html": [
       "<div>\n",
       "<style scoped>\n",
       "    .dataframe tbody tr th:only-of-type {\n",
       "        vertical-align: middle;\n",
       "    }\n",
       "\n",
       "    .dataframe tbody tr th {\n",
       "        vertical-align: top;\n",
       "    }\n",
       "\n",
       "    .dataframe thead th {\n",
       "        text-align: right;\n",
       "    }\n",
       "</style>\n",
       "<table border=\"1\" class=\"dataframe\">\n",
       "  <thead>\n",
       "    <tr style=\"text-align: right;\">\n",
       "      <th></th>\n",
       "      <th>Contact ID</th>\n",
       "      <th>Doctor - Has calendar [Batch]</th>\n",
       "      <th>Contact owner</th>\n",
       "      <th>City</th>\n",
       "      <th>HubSpot Team</th>\n",
       "      <th>Doctor - Profile Scoring</th>\n",
       "      <th>Doctor - Health Group [WF]</th>\n",
       "      <th>Doctor - Last CS Owner [WF]</th>\n",
       "      <th>Doctor - Onboarding owner (CX) [WF]</th>\n",
       "      <th>Doctor - Sold with website [Manual]</th>\n",
       "      <th>Doctor - Stage in the process [WF]</th>\n",
       "      <th>Doctor/Facility - Lifecycle stage [WF]</th>\n",
       "      <th>Doctor/Facility - Onboarding type [WF/manual]</th>\n",
       "      <th>Doctor/Facility - Payment method [Batch]</th>\n",
       "      <th>Docplanner Category [batch]</th>\n",
       "      <th>Doctor - Commercial [Batch]</th>\n",
       "    </tr>\n",
       "  </thead>\n",
       "  <tbody>\n",
       "    <tr>\n",
       "      <th>0</th>\n",
       "      <td>58020208</td>\n",
       "      <td>1</td>\n",
       "      <td>47</td>\n",
       "      <td>344</td>\n",
       "      <td>49</td>\n",
       "      <td>12.0</td>\n",
       "      <td>0</td>\n",
       "      <td>0</td>\n",
       "      <td>0</td>\n",
       "      <td>0</td>\n",
       "      <td>0</td>\n",
       "      <td>0</td>\n",
       "      <td>0</td>\n",
       "      <td>1</td>\n",
       "      <td>0</td>\n",
       "      <td>0</td>\n",
       "    </tr>\n",
       "    <tr>\n",
       "      <th>1</th>\n",
       "      <td>58020464</td>\n",
       "      <td>1</td>\n",
       "      <td>129</td>\n",
       "      <td>264</td>\n",
       "      <td>24</td>\n",
       "      <td>8.0</td>\n",
       "      <td>0</td>\n",
       "      <td>0</td>\n",
       "      <td>0</td>\n",
       "      <td>0</td>\n",
       "      <td>0</td>\n",
       "      <td>0</td>\n",
       "      <td>0</td>\n",
       "      <td>1</td>\n",
       "      <td>0</td>\n",
       "      <td>0</td>\n",
       "    </tr>\n",
       "    <tr>\n",
       "      <th>2</th>\n",
       "      <td>58018941</td>\n",
       "      <td>1</td>\n",
       "      <td>0</td>\n",
       "      <td>164</td>\n",
       "      <td>0</td>\n",
       "      <td>15.0</td>\n",
       "      <td>0</td>\n",
       "      <td>0</td>\n",
       "      <td>0</td>\n",
       "      <td>0</td>\n",
       "      <td>0</td>\n",
       "      <td>0</td>\n",
       "      <td>0</td>\n",
       "      <td>1</td>\n",
       "      <td>0</td>\n",
       "      <td>0</td>\n",
       "    </tr>\n",
       "    <tr>\n",
       "      <th>3</th>\n",
       "      <td>57991291</td>\n",
       "      <td>1</td>\n",
       "      <td>0</td>\n",
       "      <td>352</td>\n",
       "      <td>0</td>\n",
       "      <td>5.0</td>\n",
       "      <td>0</td>\n",
       "      <td>0</td>\n",
       "      <td>0</td>\n",
       "      <td>0</td>\n",
       "      <td>0</td>\n",
       "      <td>0</td>\n",
       "      <td>0</td>\n",
       "      <td>1</td>\n",
       "      <td>0</td>\n",
       "      <td>0</td>\n",
       "    </tr>\n",
       "    <tr>\n",
       "      <th>4</th>\n",
       "      <td>58020730</td>\n",
       "      <td>1</td>\n",
       "      <td>47</td>\n",
       "      <td>122</td>\n",
       "      <td>49</td>\n",
       "      <td>7.0</td>\n",
       "      <td>0</td>\n",
       "      <td>0</td>\n",
       "      <td>0</td>\n",
       "      <td>0</td>\n",
       "      <td>0</td>\n",
       "      <td>0</td>\n",
       "      <td>0</td>\n",
       "      <td>1</td>\n",
       "      <td>0</td>\n",
       "      <td>0</td>\n",
       "    </tr>\n",
       "  </tbody>\n",
       "</table>\n",
       "</div>"
      ],
      "text/plain": [
       "   Contact ID  Doctor - Has calendar [Batch]  Contact owner  City  \\\n",
       "0    58020208                              1             47   344   \n",
       "1    58020464                              1            129   264   \n",
       "2    58018941                              1              0   164   \n",
       "3    57991291                              1              0   352   \n",
       "4    58020730                              1             47   122   \n",
       "\n",
       "   HubSpot Team  Doctor - Profile Scoring  Doctor - Health Group [WF]  \\\n",
       "0            49                      12.0                           0   \n",
       "1            24                       8.0                           0   \n",
       "2             0                      15.0                           0   \n",
       "3             0                       5.0                           0   \n",
       "4            49                       7.0                           0   \n",
       "\n",
       "   Doctor - Last CS Owner [WF]  Doctor - Onboarding owner (CX) [WF]  \\\n",
       "0                            0                                    0   \n",
       "1                            0                                    0   \n",
       "2                            0                                    0   \n",
       "3                            0                                    0   \n",
       "4                            0                                    0   \n",
       "\n",
       "   Doctor - Sold with website [Manual]  Doctor - Stage in the process [WF]  \\\n",
       "0                                    0                                   0   \n",
       "1                                    0                                   0   \n",
       "2                                    0                                   0   \n",
       "3                                    0                                   0   \n",
       "4                                    0                                   0   \n",
       "\n",
       "   Doctor/Facility - Lifecycle stage [WF]  \\\n",
       "0                                       0   \n",
       "1                                       0   \n",
       "2                                       0   \n",
       "3                                       0   \n",
       "4                                       0   \n",
       "\n",
       "   Doctor/Facility - Onboarding type [WF/manual]  \\\n",
       "0                                              0   \n",
       "1                                              0   \n",
       "2                                              0   \n",
       "3                                              0   \n",
       "4                                              0   \n",
       "\n",
       "   Doctor/Facility - Payment method [Batch]  Docplanner Category [batch]  \\\n",
       "0                                         1                            0   \n",
       "1                                         1                            0   \n",
       "2                                         1                            0   \n",
       "3                                         1                            0   \n",
       "4                                         1                            0   \n",
       "\n",
       "   Doctor - Commercial [Batch]  \n",
       "0                            0  \n",
       "1                            0  \n",
       "2                            0  \n",
       "3                            0  \n",
       "4                            0  "
      ]
     },
     "execution_count": 23,
     "metadata": {},
     "output_type": "execute_result"
    }
   ],
   "source": [
    "le=LabelEncoder()\n",
    "\n",
    "for col in non_numeric_columns:\n",
    "    general[col]=le.fit_transform(general[col])\n",
    "\n",
    "general.head()"
   ]
  },
  {
   "cell_type": "markdown",
   "metadata": {},
   "source": [
    "# CausalNex\n",
    "CasualNex will be used to estimate if a customer becomes churn, based on the characteristics provided by local CRM (variables)"
   ]
  },
  {
   "cell_type": "code",
   "execution_count": 24,
   "metadata": {},
   "outputs": [
    {
     "data": {
      "text/plain": [
       "<causalnex.structure.structuremodel.StructureModel at 0x1d06a0e7ec8>"
      ]
     },
     "execution_count": 24,
     "metadata": {},
     "output_type": "execute_result"
    }
   ],
   "source": [
    "# Model Initialization\n",
    "sm = StructureModel()\n",
    "sm"
   ]
  },
  {
   "cell_type": "code",
   "execution_count": null,
   "metadata": {},
   "outputs": [],
   "source": [
    "#general.drop(columns = ['Doctor - Bought website service? [Batch]', 'Contact ID'], inplace = True) # droping non reliablevariables as it doesn't contain numbers"
   ]
  },
  {
   "cell_type": "code",
   "execution_count": 28,
   "metadata": {},
   "outputs": [
    {
     "data": {
      "image/png": "[encoded data removed]",
      "text/plain": [
       "<Figure size 432x288 with 2 Axes>"
      ]
     },
     "metadata": {
      "needs_background": "light"
     },
     "output_type": "display_data"
    }
   ],
   "source": [
    "sns.heatmap(general.corr());"
   ]
  },
  {
   "cell_type": "code",
   "execution_count": 29,
   "metadata": {},
   "outputs": [
    {
     "data": {
      "text/plain": [
       "Index(['Contact ID', 'Doctor - Has calendar [Batch]', 'Contact owner', 'City',\n",
       "       'HubSpot Team', 'Doctor - Profile Scoring',\n",
       "       'Doctor - Health Group [WF]', 'Doctor - Last CS Owner [WF]',\n",
       "       'Doctor - Onboarding owner (CX) [WF]',\n",
       "       'Doctor - Sold with website [Manual]',\n",
       "       'Doctor - Stage in the process [WF]',\n",
       "       'Doctor/Facility - Lifecycle stage [WF]',\n",
       "       'Doctor/Facility - Onboarding type [WF/manual]',\n",
       "       'Doctor/Facility - Payment method [Batch]',\n",
       "       'Docplanner Category [batch]', 'Doctor - Commercial [Batch]'],\n",
       "      dtype='object')"
      ]
     },
     "execution_count": 29,
     "metadata": {},
     "output_type": "execute_result"
    }
   ],
   "source": [
    "general.columns"
   ]
  },
  {
   "cell_type": "code",
   "execution_count": 30,
   "metadata": {},
   "outputs": [
    {
     "name": "stdout",
     "output_type": "stream",
     "text": [
      "Contact ID 18425\n",
      "Contact owner 175\n",
      "City 462\n"
     ]
    }
   ],
   "source": [
    "# counter to erase columns with more categories\n",
    "for i in general.columns:\n",
    "    if len(general[i].unique())>100:\n",
    "        print(i, len(general[i].unique()))"
   ]
  },
  {
   "cell_type": "code",
   "execution_count": 34,
   "metadata": {},
   "outputs": [],
   "source": [
    "sm = from_pandas(general) # initializing model with data "
   ]
  },
  {
   "cell_type": "code",
   "execution_count": 35,
   "metadata": {},
   "outputs": [
    {
     "name": "stderr",
     "output_type": "stream",
     "text": [
      "C:\\Users\\Data Analyst\\AppData\\Roaming\\Python\\Python37\\site-packages\\networkx\\drawing\\nx_pylab.py:563: MatplotlibDeprecationWarning:\n",
      "\n",
      "\n",
      "The iterable function was deprecated in Matplotlib 3.1 and will be removed in 3.3. Use np.iterable instead.\n",
      "\n",
      "C:\\Users\\Data Analyst\\AppData\\Roaming\\Python\\Python37\\site-packages\\networkx\\drawing\\nx_pylab.py:660: MatplotlibDeprecationWarning:\n",
      "\n",
      "\n",
      "The iterable function was deprecated in Matplotlib 3.1 and will be removed in 3.3. Use np.iterable instead.\n",
      "\n"
     ]
    },
    {
     "data": {
      "image/png": "[encoded data removed]",
      "text/plain": [
       "<Figure size 432x288 with 1 Axes>"
      ]
     },
     "metadata": {
      "needs_background": "light"
     },
     "output_type": "display_data"
    }
   ],
   "source": [
    "from causalnex.plots import plot_structure\n",
    "# Plotting general connections calculated with causality \n",
    "fig, ax, nodes=plot_structure(sm)"
   ]
  },
  {
   "cell_type": "code",
   "execution_count": 38,
   "metadata": {},
   "outputs": [
    {
     "data": {
      "image/png": "[encoded data removed]",
      "text/plain": [
       "<Figure size 720x432 with 1 Axes>"
      ]
     },
     "metadata": {
      "needs_background": "light"
     },
     "output_type": "display_data"
    }
   ],
   "source": [
    "# Plotting most relevant connections, weight greater than .8\n",
    "plt.rcParams['figure.figsize'] = (10.0, 6.0)\n",
    "sm.remove_edges_below_threshold(.8)\n",
    "fig , ax  , nodes = plot_structure(sm);"
   ]
  },
  {
   "cell_type": "code",
   "execution_count": 40,
   "metadata": {},
   "outputs": [
    {
     "name": "stdout",
     "output_type": "stream",
     "text": [
      "<class 'pandas.core.frame.DataFrame'>\n",
      "RangeIndex: 18427 entries, 0 to 18426\n",
      "Data columns (total 16 columns):\n",
      "Contact ID                                       18427 non-null int32\n",
      "Doctor - Has calendar [Batch]                    18427 non-null int8\n",
      "Contact owner                                    18427 non-null int16\n",
      "City                                             18427 non-null int16\n",
      "HubSpot Team                                     18427 non-null int8\n",
      "Doctor - Profile Scoring                         18427 non-null float64\n",
      "Doctor - Health Group [WF]                       18427 non-null int8\n",
      "Doctor - Last CS Owner [WF]                      18427 non-null int8\n",
      "Doctor - Onboarding owner (CX) [WF]              18427 non-null int8\n",
      "Doctor - Sold with website [Manual]              18427 non-null int8\n",
      "Doctor - Stage in the process [WF]               18427 non-null int8\n",
      "Doctor/Facility - Lifecycle stage [WF]           18427 non-null int8\n",
      "Doctor/Facility - Onboarding type [WF/manual]    18427 non-null int8\n",
      "Doctor/Facility - Payment method [Batch]         18427 non-null int8\n",
      "Docplanner Category [batch]                      18427 non-null int8\n",
      "Doctor - Commercial [Batch]                      18427 non-null int8\n",
      "dtypes: float64(1), int16(2), int32(1), int8(12)\n",
      "memory usage: 503.9 KB\n"
     ]
    }
   ],
   "source": [
    "## Memory Optimization\n",
    "for i in general.select_dtypes('integer').columns:\n",
    "    general[i] = pd.to_numeric(general[i], downcast = 'integer')\n",
    "general.info(memory_usage = 'deep')"
   ]
  },
  {
   "cell_type": "code",
   "execution_count": 41,
   "metadata": {},
   "outputs": [
    {
     "ename": "ValueError",
     "evalue": "The given structure has 16 separated graph components. Please make sure it has only one.",
     "output_type": "error",
     "traceback": [
      "\u001b[1;31m---------------------------------------------------------------------------\u001b[0m",
      "\u001b[1;31mValueError\u001b[0m                                Traceback (most recent call last)",
      "\u001b[1;32m<ipython-input-41-ab12e8592f63>\u001b[0m in \u001b[0;36m<module>\u001b[1;34m\u001b[0m\n\u001b[1;32m----> 1\u001b[1;33m \u001b[0mbn\u001b[0m \u001b[1;33m=\u001b[0m \u001b[0mBayesianNetwork\u001b[0m\u001b[1;33m(\u001b[0m\u001b[0msm\u001b[0m\u001b[1;33m)\u001b[0m \u001b[1;31m# Bayesian Network initialized\u001b[0m\u001b[1;33m\u001b[0m\u001b[1;33m\u001b[0m\u001b[0m\n\u001b[0m",
      "\u001b[1;32m~\\AppData\\Roaming\\Python\\Python37\\site-packages\\causalnex\\network\\network.py\u001b[0m in \u001b[0;36m__init__\u001b[1;34m(self, structure)\u001b[0m\n\u001b[0;32m    127\u001b[0m             raise ValueError(\n\u001b[0;32m    128\u001b[0m                 \u001b[1;34m\"The given structure has {n_components} separated graph components. \"\u001b[0m\u001b[1;33m\u001b[0m\u001b[1;33m\u001b[0m\u001b[0m\n\u001b[1;32m--> 129\u001b[1;33m                 \u001b[1;34m\"Please make sure it has only one.\"\u001b[0m\u001b[1;33m.\u001b[0m\u001b[0mformat\u001b[0m\u001b[1;33m(\u001b[0m\u001b[0mn_components\u001b[0m\u001b[1;33m=\u001b[0m\u001b[0mn_components\u001b[0m\u001b[1;33m)\u001b[0m\u001b[1;33m\u001b[0m\u001b[1;33m\u001b[0m\u001b[0m\n\u001b[0m\u001b[0;32m    130\u001b[0m             )\n\u001b[0;32m    131\u001b[0m \u001b[1;33m\u001b[0m\u001b[0m\n",
      "\u001b[1;31mValueError\u001b[0m: The given structure has 16 separated graph components. Please make sure it has only one."
     ]
    }
   ],
   "source": [
    "bn = BayesianNetwork(sm) # Bayesian Network initialized "
   ]
  },
  {
   "cell_type": "code",
   "execution_count": null,
   "metadata": {},
   "outputs": [],
   "source": [
    "bn = bn.fit_node_states(general1)  # Training the model with all the data base to avoid splitting nodes"
   ]
  },
  {
   "cell_type": "code",
   "execution_count": null,
   "metadata": {},
   "outputs": [],
   "source": [
    "bn = bn.fit_cpds(general1, method = 'BayesianEstimator', bayes_prior = 'K2' ) # Probability calculations for nodes using Bayesian estimator with dirichlet conditions as pseudo _counts = 1"
   ]
  },
  {
   "cell_type": "code",
   "execution_count": null,
   "metadata": {},
   "outputs": [],
   "source": [
    "bn.cpds['Docplanner Category [batch]']  # probabilies for one of the most important variables with node combinations"
   ]
  },
  {
   "cell_type": "code",
   "execution_count": null,
   "metadata": {},
   "outputs": [],
   "source": [
    "z = bn.cpds['Docplanner Category [batch]']\n",
    "z.shape"
   ]
  },
  {
   "cell_type": "code",
   "execution_count": null,
   "metadata": {},
   "outputs": [],
   "source": [
    "predictions=bn.predict(general1, 'Docplanner Category [batch]') # Predicting, next category for every contact"
   ]
  },
  {
   "cell_type": "code",
   "execution_count": null,
   "metadata": {},
   "outputs": [],
   "source": [
    "predictions1 = bn.predict(general1, 'Doctor - Commercial [Batch]') # Predicting if every contact will become a churn or not "
   ]
  },
  {
   "cell_type": "code",
   "execution_count": null,
   "metadata": {},
   "outputs": [],
   "source": [
    "classification_report(bn, general1, 'Docplanner Category [batch]') # Classification for all categories"
   ]
  },
  {
   "cell_type": "code",
   "execution_count": null,
   "metadata": {},
   "outputs": [],
   "source": [
    "# Categories Distribution\n",
    "labels, counts=np.unique(general1['Docplanner Category [batch]'], return_counts=True)\n",
    "list(zip(labels, counts)) "
   ]
  },
  {
   "cell_type": "markdown",
   "metadata": {},
   "source": [
    "# Survivial Method"
   ]
  },
  {
   "cell_type": "code",
   "execution_count": null,
   "metadata": {},
   "outputs": [],
   "source": [
    "# Invoices Data\n",
    "churn_dwh = pd.read_csv('C:/Users/Data Analyst/Documents/Otros/Proyecto churn/batch0.csv') # Churn invoice data\n",
    "nochurn_dwh1 = pd.read_csv('C:/Users/Data Analyst/Documents/Otros/Proyecto churn/batch1.csv')# Not Churn invoice data"
   ]
  },
  {
   "cell_type": "code",
   "execution_count": null,
   "metadata": {},
   "outputs": [],
   "source": [
    "churn_dwh.head(2)"
   ]
  },
  {
   "cell_type": "code",
   "execution_count": null,
   "metadata": {},
   "outputs": [],
   "source": [
    "nochurn_dwh1.head(2)"
   ]
  },
  {
   "cell_type": "code",
   "execution_count": null,
   "metadata": {},
   "outputs": [],
   "source": [
    "dwh = churn_dwh.append(nochurn_dwh1, ignore_index = True) # Invoice append for churn and no churn "
   ]
  },
  {
   "cell_type": "code",
   "execution_count": null,
   "metadata": {},
   "outputs": [],
   "source": [
    "dwh.head(2)"
   ]
  },
  {
   "cell_type": "code",
   "execution_count": null,
   "metadata": {},
   "outputs": [],
   "source": [
    "dwh.shape"
   ]
  },
  {
   "cell_type": "code",
   "execution_count": null,
   "metadata": {},
   "outputs": [],
   "source": [
    "# Left function to extract only the date \n",
    "dwh['min_commercial_from'] = dwh.commercial_from.str[:10]\n",
    "dwh['max_commercial_from'] = dwh.last_commercial.str[:10]"
   ]
  },
  {
   "cell_type": "code",
   "execution_count": null,
   "metadata": {},
   "outputs": [],
   "source": [
    "dwh['min_commercial_from']=pd.to_datetime(dwh['min_commercial_from'],format='%Y-%m-%d') # Date format\n",
    "dwh['max_commercial_from']=pd.to_datetime(dwh['max_commercial_from'],format='%Y-%m-%d') # Date Format\n",
    "dwh['tenure'] = dwh['max_commercial_from'] - dwh['min_commercial_from'] # Tenure Calculation\n",
    "dwh.tenure = dwh.tenure.apply(lambda x: x.days)  # Tenure as a number "
   ]
  },
  {
   "cell_type": "code",
   "execution_count": null,
   "metadata": {},
   "outputs": [],
   "source": [
    "dwh.drop(columns = ['commercial_from', 'last_commercial'])\n",
    "dwh.head(2)"
   ]
  },
  {
   "cell_type": "code",
   "execution_count": null,
   "metadata": {
    "scrolled": true
   },
   "outputs": [],
   "source": [
    "# Tenure distribution\n",
    "import plotly.express as px\n",
    "fig = px.histogram(dwh, x = 'tenure')\n",
    "fig.show()"
   ]
  },
  {
   "cell_type": "code",
   "execution_count": null,
   "metadata": {},
   "outputs": [],
   "source": [
    "# Merging Invoice database with general database so every client has a tenure \n",
    "total=pd.merge(churn_nochurn,dwh, left_on = 'Contact ID', right_on = 'hubspot_id')\n",
    "total.shape"
   ]
  },
  {
   "cell_type": "code",
   "execution_count": null,
   "metadata": {},
   "outputs": [],
   "source": [
    "total.fillna('-',inplace = True) # Filling null values\n",
    "total.isnull().sum()"
   ]
  },
  {
   "cell_type": "markdown",
   "metadata": {},
   "source": [
    "# Kaplan Meier"
   ]
  },
  {
   "cell_type": "code",
   "execution_count": null,
   "metadata": {},
   "outputs": [],
   "source": [
    "# Kaplan Meier Funtion for survival Method\n",
    "def survival(data, group_field, time_field, event_field):\n",
    "    \n",
    "    modelo=KaplanMeierFitter()\n",
    "    \n",
    "    res=[]\n",
    "    for i in data[group_field].unique():\n",
    "        grupo=data[data[group_field]==i]\n",
    "        t=grupo[time_field]\n",
    "        e=grupo[event_field]\n",
    "        \n",
    "        modelo.fit(t, e, label=str(i))\n",
    "        \n",
    "        res.append(modelo.survival_function_)\n",
    "        \n",
    "    survival=pd.concat(res, axis=1)\n",
    "    return survival"
   ]
  },
  {
   "cell_type": "code",
   "execution_count": null,
   "metadata": {},
   "outputs": [],
   "source": [
    "rates = survival(total, 'Docplanner Category [batch]','tenure' , 'Doctor - Commercial [Batch]')"
   ]
  },
  {
   "cell_type": "code",
   "execution_count": null,
   "metadata": {},
   "outputs": [],
   "source": [
    "# Survival Graphics for categories\n",
    "rates.iplot(kind='line', xTitle='Permanencia días', \n",
    "            yTitle='Tasa de retención', title='Tasa de retención por permanencia y categoría')"
   ]
  },
  {
   "cell_type": "code",
   "execution_count": null,
   "metadata": {},
   "outputs": [],
   "source": [
    "# Survival Graphics for Calendar\n",
    "rates = survival(total, 'Doctor - Has calendar [Batch]','tenure' , 'Doctor - Commercial [Batch]')\n",
    "rates.iplot(kind='line', xTitle='Permanencia días', \n",
    "            yTitle='Tasa de retención', title='Tasa de retención por permanencia y calendario(Y/N)')"
   ]
  },
  {
   "cell_type": "code",
   "execution_count": null,
   "metadata": {},
   "outputs": [],
   "source": [
    "# Survival Graphics for Group\n",
    "rates = survival(total, 'Doctor - Health Group [WF]','tenure' , 'Doctor - Commercial [Batch]')\n",
    "rates.iplot(kind='line', xTitle='Permanencia días', \n",
    "            yTitle='Tasa de retención', title='Tasa de retención por permanencia y Health Group')"
   ]
  }
 ],
 "metadata": {
  "kernelspec": {
   "display_name": "Python 3",
   "language": "python",
   "name": "python3"
  },
  "language_info": {
   "codemirror_mode": {
    "name": "ipython",
    "version": 3
   },
   "file_extension": ".py",
   "mimetype": "text/x-python",
   "name": "python",
   "nbconvert_exporter": "python",
   "pygments_lexer": "ipython3",
   "version": "3.7.4"
  }
 },
 "nbformat": 4,
 "nbformat_minor": 2
}
