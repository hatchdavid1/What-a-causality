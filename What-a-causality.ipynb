{
 "cells": [
  {
   "cell_type": "markdown",
   "metadata": {},
   "source": [
    "# Churn with causality "
   ]
  },
  {
   "cell_type": "markdown",
   "metadata": {},
   "source": [
    "This analysisi will show the main reason why clients stop using our server"
   ]
  },
  {
   "cell_type": "code",
   "execution_count": 1,
   "metadata": {},
   "outputs": [
    {
     "data": {
      "text/html": [
       "        <script type=\"text/javascript\">\n",
       "        window.PlotlyConfig = {MathJaxConfig: 'local'};\n",
       "        if (window.MathJax) {MathJax.Hub.Config({SVG: {font: \"STIX-Web\"}});}\n",
       "        if (typeof require !== 'undefined') {\n",
       "        require.undef(\"plotly\");\n",
       "        requirejs.config({\n",
       "            paths: {\n",
       "                'plotly': ['https://cdn.plot.ly/plotly-latest.min']\n",
       "            }\n",
       "        });\n",
       "        require(['plotly'], function(Plotly) {\n",
       "            window._Plotly = Plotly;\n",
       "        });\n",
       "        }\n",
       "        </script>\n",
       "        "
      ]
     },
     "metadata": {},
     "output_type": "display_data"
    }
   ],
   "source": [
    "# Main libraries\n",
    "import pandas as pd \n",
    "import numpy as np\n",
    "import matplotlib.pyplot as plt \n",
    "import seaborn as sns \n",
    "import plotly\n",
    "import datetime\n",
    "from causalnex.structure import StructureModel\n",
    "from sklearn.preprocessing import LabelEncoder\n",
    "from causalnex.structure.notears import from_pandas\n",
    "from causalnex.discretiser import Discretiser\n",
    "from sklearn.model_selection import train_test_split\n",
    "from causalnex.network import BayesianNetwork\n",
    "import chart_studio.plotly as py\n",
    "import cufflinks as cf\n",
    "from lifelines import KaplanMeierFitter\n",
    "cf.go_offline()\n",
    "from causalnex.evaluation import classification_report\n",
    "from causalnex.evaluation import roc_auc\n",
    "from causalnex.inference import InferenceEngine"
   ]
  },
  {
   "cell_type": "markdown",
   "metadata": {},
   "source": [
    "# Loading data\n",
    "Loading churn and not churn data to clean and prepare for causal model"
   ]
  },
  {
   "cell_type": "code",
   "execution_count": 2,
   "metadata": {},
   "outputs": [],
   "source": [
    "# churn and not churn databases\n",
    "hs_churn = pd.read_csv('C:/Users/Data Analyst/Documents/Otros/Proyecto churn/mx-so-daily-churn-data.csv')\n",
    "hs_nochurn = pd.read_csv('C:/Users/Data Analyst/Documents/Otros/Proyecto churn/mx-so-batch-1.csv')"
   ]
  },
  {
   "cell_type": "code",
   "execution_count": 3,
   "metadata": {},
   "outputs": [
    {
     "data": {
      "text/plain": [
       "Index(['Contact ID', 'Doctor - Has calendar [Batch]',\n",
       "       'Doctor - Has own website? (S) [Manual] ',\n",
       "       'Doctor - Profile Completeness - Percentage [Batch]',\n",
       "       'Doctor - Specialisation 1 [Batch]', 'Doctor - Verified [batch]',\n",
       "       'Email Confirmed', 'First Name', 'Last Name', 'Contact owner', 'City',\n",
       "       'HubSpot Team', 'Postal Code', 'Country [batch]', 'Close Date',\n",
       "       'Doctor - Onboarding Completed at (non commercial)',\n",
       "       'Doctor - Profile Scoring',\n",
       "       'Doctor - Gross Price of Premium Subscription - Currency type  [Batch]',\n",
       "       'Doctor - Website - became customer at [batch]',\n",
       "       'Doctor verified email [Batch]',\n",
       "       'Doctor/Facility - Last Premium date [WF]',\n",
       "       'Internal - Contact result [Manual]',\n",
       "       'Internal - Last Sales Owner [WF]', 'Internal - Sold by (DA)',\n",
       "       'Doctor - Scoring at [WF]',\n",
       "       ' Doctor - Pre-onboarding completed [Batch]',\n",
       "       ' Doctor - Pre-onboarding completed at [Batch]',\n",
       "       'Doctor - After first call at - Stage in the process [WF]',\n",
       "       'Doctor - Bought website service? [Batch]',\n",
       "       'Doctor - Farming at - Lifecycle stage [WF]',\n",
       "       'Doctor - Farming at - Stage in the process [WF]',\n",
       "       'Doctor - Health Group [WF]', 'Doctor - Last CS Owner [WF]',\n",
       "       'Doctor - Onboarding at - Lifecycle stage [WF]',\n",
       "       'Doctor - Onboarding owner (CX) [WF]',\n",
       "       'Doctor - Sold with website [Manual]',\n",
       "       'Doctor - Stage in the process [WF]',\n",
       "       'Doctor/Facility - Lifecycle stage [WF]',\n",
       "       'Doctor/Facility - Onboarding type [WF/manual]',\n",
       "       'Doctor/Facility - Payment method [Batch]',\n",
       "       'Docplanner Category [batch]', 'Doctor - Commercial [Batch]',\n",
       "       'Doctor - Commercial from (last date) [Batch]',\n",
       "       'Doctor - Registration Phone Number [Batch]',\n",
       "       'Doctor stats - Visits (booked by user) count [batch]', 'Company ID',\n",
       "       'Name', 'Phone Number', 'City.1', 'Company owner', 'Last Activity Date',\n",
       "       'Country/Region', 'Industry', 'Create Date'],\n",
       "      dtype='object')"
      ]
     },
     "execution_count": 3,
     "metadata": {},
     "output_type": "execute_result"
    }
   ],
   "source": [
    "# columns/variables for churn data base\n",
    "hs_churn.columns"
   ]
  },
  {
   "cell_type": "code",
   "execution_count": 4,
   "metadata": {},
   "outputs": [
    {
     "data": {
      "text/plain": [
       "Index(['Contact ID', 'Doctor - Has calendar [Batch]',\n",
       "       'Doctor - Has own website? (S) [Manual] ',\n",
       "       'Doctor - Profile Completeness - Percentage [Batch]',\n",
       "       'Doctor - Specialisation 1 [Batch]', 'First Name', 'Last Name',\n",
       "       'Contact owner', 'HubSpot Team', 'Country [batch]', 'Close Date',\n",
       "       'Doctor - Onboarding Completed at (non commercial)',\n",
       "       'Doctor - Profile Scoring',\n",
       "       'Doctor - Gross Price of Premium Subscription - Currency type  [Batch]',\n",
       "       'Doctor - Website - became customer at [batch]',\n",
       "       'Doctor verified email [Batch]',\n",
       "       'Doctor/Facility - Last Premium date [WF]',\n",
       "       'Internal - Contact result [Manual]',\n",
       "       'Internal - Last Sales Owner [WF]', 'Internal - Sold by (DA)',\n",
       "       'Doctor - Scoring at [WF]',\n",
       "       ' Doctor - Pre-onboarding completed [Batch]',\n",
       "       ' Doctor - Pre-onboarding completed at [Batch]',\n",
       "       'Doctor - After first call at - Stage in the process [WF]',\n",
       "       'Doctor - Bought website service? [Batch]',\n",
       "       'Doctor - Farming at - Lifecycle stage [WF]',\n",
       "       'Doctor - Farming at - Stage in the process [WF]',\n",
       "       'Doctor - Health Group [WF]', 'Doctor - Last CS Owner [WF]',\n",
       "       'Doctor - Onboarding at - Lifecycle stage [WF]',\n",
       "       'Doctor - Onboarding owner (CX) [WF]',\n",
       "       'Doctor - Sold with website [Manual]',\n",
       "       'Doctor - Stage in the process [WF]',\n",
       "       'Doctor/Facility - Lifecycle stage [WF]',\n",
       "       'Doctor/Facility - Onboarding type [WF/manual]',\n",
       "       'Doctor/Facility - Payment method [Batch]',\n",
       "       'Docplanner Category [batch]', 'Doctor - Commercial [Batch]',\n",
       "       'Doctor - Commercial from (last date) [Batch]',\n",
       "       'Doctor - Registration Phone Number [Batch]',\n",
       "       'Doctor stats - Visits (booked by user) count [batch]', 'Company ID',\n",
       "       'Name', 'Phone Number', 'City', 'Company owner', 'Last Activity Date',\n",
       "       'Country/Region', 'Industry', 'Create Date'],\n",
       "      dtype='object')"
      ]
     },
     "execution_count": 4,
     "metadata": {},
     "output_type": "execute_result"
    }
   ],
   "source": [
    "# columns/variables for not churn \n",
    "hs_nochurn.columns "
   ]
  },
  {
   "cell_type": "code",
   "execution_count": 5,
   "metadata": {},
   "outputs": [],
   "source": [
    "# Most important varible selection\n",
    "hs_churn_clean = hs_churn[['Contact ID','Doctor - Has calendar [Batch]','Contact owner','City','HubSpot Team',\n",
    "                          'Doctor - Profile Scoring','Internal - Contact result [Manual]',\n",
    "                          'Internal - Last Sales Owner [WF]', 'Internal - Sold by (DA)',' Doctor - Pre-onboarding completed [Batch]',\n",
    "                          'Doctor - Bought website service? [Batch]','Doctor - Health Group [WF]', 'Doctor - Last CS Owner [WF]',\n",
    "                          'Doctor - Onboarding owner (CX) [WF]','Doctor - Sold with website [Manual]','Doctor - Stage in the process [WF]',\n",
    "                          'Doctor/Facility - Lifecycle stage [WF]','Doctor/Facility - Onboarding type [WF/manual]','Doctor/Facility - Payment method [Batch]',\n",
    "                          'Docplanner Category [batch]', 'Doctor - Commercial [Batch]']]\n",
    "hs_nochurn_clean = hs_nochurn[['Contact ID','Doctor - Has calendar [Batch]','Contact owner','City','HubSpot Team',\n",
    "                          'Doctor - Profile Scoring','Internal - Contact result [Manual]',\n",
    "                          'Internal - Last Sales Owner [WF]', 'Internal - Sold by (DA)',' Doctor - Pre-onboarding completed [Batch]',\n",
    "                          'Doctor - Bought website service? [Batch]','Doctor - Health Group [WF]', 'Doctor - Last CS Owner [WF]',\n",
    "                          'Doctor - Onboarding owner (CX) [WF]','Doctor - Sold with website [Manual]','Doctor - Stage in the process [WF]',\n",
    "                          'Doctor/Facility - Lifecycle stage [WF]','Doctor/Facility - Onboarding type [WF/manual]','Doctor/Facility - Payment method [Batch]',\n",
    "                          'Docplanner Category [batch]', 'Doctor - Commercial [Batch]']]"
   ]
  },
  {
   "cell_type": "code",
   "execution_count": 6,
   "metadata": {},
   "outputs": [
    {
     "data": {
      "text/html": [
       "<div>\n",
       "<style scoped>\n",
       "    .dataframe tbody tr th:only-of-type {\n",
       "        vertical-align: middle;\n",
       "    }\n",
       "\n",
       "    .dataframe tbody tr th {\n",
       "        vertical-align: top;\n",
       "    }\n",
       "\n",
       "    .dataframe thead th {\n",
       "        text-align: right;\n",
       "    }\n",
       "</style>\n",
       "<table border=\"1\" class=\"dataframe\">\n",
       "  <thead>\n",
       "    <tr style=\"text-align: right;\">\n",
       "      <th></th>\n",
       "      <th>Contact ID</th>\n",
       "      <th>Doctor - Has calendar [Batch]</th>\n",
       "      <th>Contact owner</th>\n",
       "      <th>City</th>\n",
       "      <th>HubSpot Team</th>\n",
       "      <th>Doctor - Profile Scoring</th>\n",
       "      <th>Internal - Contact result [Manual]</th>\n",
       "      <th>Internal - Last Sales Owner [WF]</th>\n",
       "      <th>Internal - Sold by (DA)</th>\n",
       "      <th>Doctor - Pre-onboarding completed [Batch]</th>\n",
       "      <th>...</th>\n",
       "      <th>Doctor - Health Group [WF]</th>\n",
       "      <th>Doctor - Last CS Owner [WF]</th>\n",
       "      <th>Doctor - Onboarding owner (CX) [WF]</th>\n",
       "      <th>Doctor - Sold with website [Manual]</th>\n",
       "      <th>Doctor - Stage in the process [WF]</th>\n",
       "      <th>Doctor/Facility - Lifecycle stage [WF]</th>\n",
       "      <th>Doctor/Facility - Onboarding type [WF/manual]</th>\n",
       "      <th>Doctor/Facility - Payment method [Batch]</th>\n",
       "      <th>Docplanner Category [batch]</th>\n",
       "      <th>Doctor - Commercial [Batch]</th>\n",
       "    </tr>\n",
       "  </thead>\n",
       "  <tbody>\n",
       "    <tr>\n",
       "      <th>0</th>\n",
       "      <td>58020208</td>\n",
       "      <td>No</td>\n",
       "      <td>Data Quality</td>\n",
       "      <td>San Luis Potosi</td>\n",
       "      <td>Permission level 9</td>\n",
       "      <td>12.0</td>\n",
       "      <td>Deal Created [TR]</td>\n",
       "      <td>janet ramirez herrera</td>\n",
       "      <td>NaN</td>\n",
       "      <td>NaN</td>\n",
       "      <td>...</td>\n",
       "      <td>NaN</td>\n",
       "      <td>NaN</td>\n",
       "      <td>NaN</td>\n",
       "      <td>NaN</td>\n",
       "      <td>NaN</td>\n",
       "      <td>NaN</td>\n",
       "      <td>NaN</td>\n",
       "      <td>Bank transfer</td>\n",
       "      <td>NaN</td>\n",
       "      <td>0</td>\n",
       "    </tr>\n",
       "    <tr>\n",
       "      <th>1</th>\n",
       "      <td>58020464</td>\n",
       "      <td>No</td>\n",
       "      <td>María del Carmen Curiel González</td>\n",
       "      <td>Naucalpan de Juárez</td>\n",
       "      <td>MX_CS_FAR_1</td>\n",
       "      <td>8.0</td>\n",
       "      <td>NaN</td>\n",
       "      <td>NaN</td>\n",
       "      <td>NaN</td>\n",
       "      <td>NaN</td>\n",
       "      <td>...</td>\n",
       "      <td>NaN</td>\n",
       "      <td>NaN</td>\n",
       "      <td>NaN</td>\n",
       "      <td>NaN</td>\n",
       "      <td>NaN</td>\n",
       "      <td>NaN</td>\n",
       "      <td>NaN</td>\n",
       "      <td>Bank transfer</td>\n",
       "      <td>NaN</td>\n",
       "      <td>0</td>\n",
       "    </tr>\n",
       "  </tbody>\n",
       "</table>\n",
       "<p>2 rows × 21 columns</p>\n",
       "</div>"
      ],
      "text/plain": [
       "   Contact ID Doctor - Has calendar [Batch]                     Contact owner  \\\n",
       "0    58020208                            No                      Data Quality   \n",
       "1    58020464                            No  María del Carmen Curiel González   \n",
       "\n",
       "                  City        HubSpot Team  Doctor - Profile Scoring  \\\n",
       "0      San Luis Potosi  Permission level 9                      12.0   \n",
       "1  Naucalpan de Juárez         MX_CS_FAR_1                       8.0   \n",
       "\n",
       "  Internal - Contact result [Manual] Internal - Last Sales Owner [WF]  \\\n",
       "0                  Deal Created [TR]            janet ramirez herrera   \n",
       "1                                NaN                              NaN   \n",
       "\n",
       "  Internal - Sold by (DA)  Doctor - Pre-onboarding completed [Batch]  ...  \\\n",
       "0                     NaN                                        NaN  ...   \n",
       "1                     NaN                                        NaN  ...   \n",
       "\n",
       "   Doctor - Health Group [WF] Doctor - Last CS Owner [WF]  \\\n",
       "0                         NaN                         NaN   \n",
       "1                         NaN                         NaN   \n",
       "\n",
       "  Doctor - Onboarding owner (CX) [WF] Doctor - Sold with website [Manual]  \\\n",
       "0                                 NaN                                 NaN   \n",
       "1                                 NaN                                 NaN   \n",
       "\n",
       "  Doctor - Stage in the process [WF] Doctor/Facility - Lifecycle stage [WF]  \\\n",
       "0                                NaN                                    NaN   \n",
       "1                                NaN                                    NaN   \n",
       "\n",
       "  Doctor/Facility - Onboarding type [WF/manual]  \\\n",
       "0                                           NaN   \n",
       "1                                           NaN   \n",
       "\n",
       "  Doctor/Facility - Payment method [Batch] Docplanner Category [batch]  \\\n",
       "0                            Bank transfer                         NaN   \n",
       "1                            Bank transfer                         NaN   \n",
       "\n",
       "  Doctor - Commercial [Batch]  \n",
       "0                           0  \n",
       "1                           0  \n",
       "\n",
       "[2 rows x 21 columns]"
      ]
     },
     "execution_count": 6,
     "metadata": {},
     "output_type": "execute_result"
    }
   ],
   "source": [
    "hs_churn_clean.head(2) # testing if data frame column order adjust"
   ]
  },
  {
   "cell_type": "code",
   "execution_count": 7,
   "metadata": {},
   "outputs": [
    {
     "data": {
      "text/html": [
       "<div>\n",
       "<style scoped>\n",
       "    .dataframe tbody tr th:only-of-type {\n",
       "        vertical-align: middle;\n",
       "    }\n",
       "\n",
       "    .dataframe tbody tr th {\n",
       "        vertical-align: top;\n",
       "    }\n",
       "\n",
       "    .dataframe thead th {\n",
       "        text-align: right;\n",
       "    }\n",
       "</style>\n",
       "<table border=\"1\" class=\"dataframe\">\n",
       "  <thead>\n",
       "    <tr style=\"text-align: right;\">\n",
       "      <th></th>\n",
       "      <th>Contact ID</th>\n",
       "      <th>Doctor - Has calendar [Batch]</th>\n",
       "      <th>Contact owner</th>\n",
       "      <th>City</th>\n",
       "      <th>HubSpot Team</th>\n",
       "      <th>Doctor - Profile Scoring</th>\n",
       "      <th>Internal - Contact result [Manual]</th>\n",
       "      <th>Internal - Last Sales Owner [WF]</th>\n",
       "      <th>Internal - Sold by (DA)</th>\n",
       "      <th>Doctor - Pre-onboarding completed [Batch]</th>\n",
       "      <th>...</th>\n",
       "      <th>Doctor - Health Group [WF]</th>\n",
       "      <th>Doctor - Last CS Owner [WF]</th>\n",
       "      <th>Doctor - Onboarding owner (CX) [WF]</th>\n",
       "      <th>Doctor - Sold with website [Manual]</th>\n",
       "      <th>Doctor - Stage in the process [WF]</th>\n",
       "      <th>Doctor/Facility - Lifecycle stage [WF]</th>\n",
       "      <th>Doctor/Facility - Onboarding type [WF/manual]</th>\n",
       "      <th>Doctor/Facility - Payment method [Batch]</th>\n",
       "      <th>Docplanner Category [batch]</th>\n",
       "      <th>Doctor - Commercial [Batch]</th>\n",
       "    </tr>\n",
       "  </thead>\n",
       "  <tbody>\n",
       "    <tr>\n",
       "      <th>0</th>\n",
       "      <td>58015869</td>\n",
       "      <td>Yes</td>\n",
       "      <td>Miguel Varela Cid</td>\n",
       "      <td>NaN</td>\n",
       "      <td>MX_CS_FAR_1</td>\n",
       "      <td>7.0</td>\n",
       "      <td>NaN</td>\n",
       "      <td>NaN</td>\n",
       "      <td>NaN</td>\n",
       "      <td>NaN</td>\n",
       "      <td>...</td>\n",
       "      <td>Sick</td>\n",
       "      <td>NaN</td>\n",
       "      <td>NaN</td>\n",
       "      <td>NaN</td>\n",
       "      <td>farming</td>\n",
       "      <td>Farming</td>\n",
       "      <td>Standard onboarding</td>\n",
       "      <td>Bank transfer</td>\n",
       "      <td>Instasuperzombie</td>\n",
       "      <td>1</td>\n",
       "    </tr>\n",
       "    <tr>\n",
       "      <th>1</th>\n",
       "      <td>58016381</td>\n",
       "      <td>Yes</td>\n",
       "      <td>Francisco Flores González</td>\n",
       "      <td>NaN</td>\n",
       "      <td>MX_CS_FAR_1</td>\n",
       "      <td>12.0</td>\n",
       "      <td>NaN</td>\n",
       "      <td>Daniela Ortega</td>\n",
       "      <td>NaN</td>\n",
       "      <td>NaN</td>\n",
       "      <td>...</td>\n",
       "      <td>Mid-Healthy</td>\n",
       "      <td>Adelaida Garcia Espino</td>\n",
       "      <td>NaN</td>\n",
       "      <td>NaN</td>\n",
       "      <td>farming</td>\n",
       "      <td>Farming</td>\n",
       "      <td>Standard onboarding</td>\n",
       "      <td>Bank transfer</td>\n",
       "      <td>Engaged</td>\n",
       "      <td>1</td>\n",
       "    </tr>\n",
       "  </tbody>\n",
       "</table>\n",
       "<p>2 rows × 21 columns</p>\n",
       "</div>"
      ],
      "text/plain": [
       "   Contact ID Doctor - Has calendar [Batch]              Contact owner City  \\\n",
       "0    58015869                           Yes          Miguel Varela Cid  NaN   \n",
       "1    58016381                           Yes  Francisco Flores González  NaN   \n",
       "\n",
       "  HubSpot Team  Doctor - Profile Scoring Internal - Contact result [Manual]  \\\n",
       "0  MX_CS_FAR_1                       7.0                                NaN   \n",
       "1  MX_CS_FAR_1                      12.0                                NaN   \n",
       "\n",
       "  Internal - Last Sales Owner [WF] Internal - Sold by (DA)  \\\n",
       "0                              NaN                     NaN   \n",
       "1                   Daniela Ortega                     NaN   \n",
       "\n",
       "   Doctor - Pre-onboarding completed [Batch]  ...  Doctor - Health Group [WF]  \\\n",
       "0                                        NaN  ...                        Sick   \n",
       "1                                        NaN  ...                 Mid-Healthy   \n",
       "\n",
       "  Doctor - Last CS Owner [WF] Doctor - Onboarding owner (CX) [WF]  \\\n",
       "0                         NaN                                 NaN   \n",
       "1      Adelaida Garcia Espino                                 NaN   \n",
       "\n",
       "  Doctor - Sold with website [Manual] Doctor - Stage in the process [WF]  \\\n",
       "0                                 NaN                            farming   \n",
       "1                                 NaN                            farming   \n",
       "\n",
       "  Doctor/Facility - Lifecycle stage [WF]  \\\n",
       "0                                Farming   \n",
       "1                                Farming   \n",
       "\n",
       "  Doctor/Facility - Onboarding type [WF/manual]  \\\n",
       "0                           Standard onboarding   \n",
       "1                           Standard onboarding   \n",
       "\n",
       "  Doctor/Facility - Payment method [Batch] Docplanner Category [batch]  \\\n",
       "0                            Bank transfer            Instasuperzombie   \n",
       "1                            Bank transfer                     Engaged   \n",
       "\n",
       "  Doctor - Commercial [Batch]  \n",
       "0                           1  \n",
       "1                           1  \n",
       "\n",
       "[2 rows x 21 columns]"
      ]
     },
     "execution_count": 7,
     "metadata": {},
     "output_type": "execute_result"
    }
   ],
   "source": [
    "hs_nochurn_clean.head(2) # testing if data frame column order adjust"
   ]
  },
  {
   "cell_type": "code",
   "execution_count": 8,
   "metadata": {},
   "outputs": [
    {
     "name": "stdout",
     "output_type": "stream",
     "text": [
      "(8271, 21) (10156, 21)\n"
     ]
    }
   ],
   "source": [
    "print(hs_churn_clean.shape, hs_nochurn_clean.shape) # validating shapes for dataframes append"
   ]
  },
  {
   "cell_type": "code",
   "execution_count": 9,
   "metadata": {},
   "outputs": [],
   "source": [
    "churn_nochurn = hs_churn_clean.append(hs_nochurn_clean, ignore_index = True) # appending dataframes"
   ]
  },
  {
   "cell_type": "markdown",
   "metadata": {},
   "source": [
    "# Data cleaning \n",
    "Cleaning null contacts and changing column types."
   ]
  },
  {
   "cell_type": "code",
   "execution_count": 10,
   "metadata": {},
   "outputs": [
    {
     "name": "stdout",
     "output_type": "stream",
     "text": [
      "<class 'pandas.core.frame.DataFrame'>\n",
      "RangeIndex: 18427 entries, 0 to 18426\n",
      "Data columns (total 21 columns):\n",
      "Contact ID                                       18427 non-null int64\n",
      "Doctor - Has calendar [Batch]                    18418 non-null object\n",
      "Contact owner                                    14066 non-null object\n",
      "City                                             8306 non-null object\n",
      "HubSpot Team                                     13980 non-null object\n",
      "Doctor - Profile Scoring                         18427 non-null float64\n",
      "Internal - Contact result [Manual]               10211 non-null object\n",
      "Internal - Last Sales Owner [WF]                 14649 non-null object\n",
      "Internal - Sold by (DA)                          11358 non-null object\n",
      " Doctor - Pre-onboarding completed [Batch]       597 non-null object\n",
      "Doctor - Bought website service? [Batch]         18412 non-null float64\n",
      "Doctor - Health Group [WF]                       10110 non-null object\n",
      "Doctor - Last CS Owner [WF]                      5359 non-null object\n",
      "Doctor - Onboarding owner (CX) [WF]              4030 non-null object\n",
      "Doctor - Sold with website [Manual]              54 non-null object\n",
      "Doctor - Stage in the process [WF]               10344 non-null object\n",
      "Doctor/Facility - Lifecycle stage [WF]           10344 non-null object\n",
      "Doctor/Facility - Onboarding type [WF/manual]    10557 non-null object\n",
      "Doctor/Facility - Payment method [Batch]         18090 non-null object\n",
      "Docplanner Category [batch]                      10321 non-null object\n",
      "Doctor - Commercial [Batch]                      18427 non-null int64\n",
      "dtypes: float64(2), int64(2), object(17)\n",
      "memory usage: 3.0+ MB\n"
     ]
    }
   ],
   "source": [
    "churn_nochurn.info()"
   ]
  },
  {
   "cell_type": "code",
   "execution_count": 11,
   "metadata": {},
   "outputs": [],
   "source": [
    "general = churn_nochurn.fillna('-') # Filling null values wiht '-'"
   ]
  },
  {
   "cell_type": "code",
   "execution_count": 12,
   "metadata": {},
   "outputs": [
    {
     "name": "stdout",
     "output_type": "stream",
     "text": [
      "<class 'pandas.core.frame.DataFrame'>\n",
      "RangeIndex: 18427 entries, 0 to 18426\n",
      "Data columns (total 21 columns):\n",
      "Contact ID                                       18427 non-null int64\n",
      "Doctor - Has calendar [Batch]                    18427 non-null object\n",
      "Contact owner                                    18427 non-null object\n",
      "City                                             18427 non-null object\n",
      "HubSpot Team                                     18427 non-null object\n",
      "Doctor - Profile Scoring                         18427 non-null float64\n",
      "Internal - Contact result [Manual]               18427 non-null object\n",
      "Internal - Last Sales Owner [WF]                 18427 non-null object\n",
      "Internal - Sold by (DA)                          18427 non-null object\n",
      " Doctor - Pre-onboarding completed [Batch]       18427 non-null object\n",
      "Doctor - Bought website service? [Batch]         18427 non-null object\n",
      "Doctor - Health Group [WF]                       18427 non-null object\n",
      "Doctor - Last CS Owner [WF]                      18427 non-null object\n",
      "Doctor - Onboarding owner (CX) [WF]              18427 non-null object\n",
      "Doctor - Sold with website [Manual]              18427 non-null object\n",
      "Doctor - Stage in the process [WF]               18427 non-null object\n",
      "Doctor/Facility - Lifecycle stage [WF]           18427 non-null object\n",
      "Doctor/Facility - Onboarding type [WF/manual]    18427 non-null object\n",
      "Doctor/Facility - Payment method [Batch]         18427 non-null object\n",
      "Docplanner Category [batch]                      18427 non-null object\n",
      "Doctor - Commercial [Batch]                      18427 non-null int64\n",
      "dtypes: float64(1), int64(2), object(18)\n",
      "memory usage: 3.0+ MB\n"
     ]
    }
   ],
   "source": [
    "general.info()"
   ]
  },
  {
   "cell_type": "code",
   "execution_count": 14,
   "metadata": {},
   "outputs": [],
   "source": [
    "# discretizing numerical variables\n",
    "churn_nochurn['Doctor - Profile Scoring']=Discretiser(method='fixed',\n",
    "                             numeric_split_points=[1, 2]).transform(churn_nochurn['Doctor - Profile Scoring'].values)"
   ]
  },
  {
   "cell_type": "code",
   "execution_count": 16,
   "metadata": {},
   "outputs": [
    {
     "data": {
      "text/plain": [
       "['Doctor - Has calendar [Batch]',\n",
       " 'Contact owner',\n",
       " 'City',\n",
       " 'HubSpot Team',\n",
       " 'Internal - Contact result [Manual]',\n",
       " 'Internal - Last Sales Owner [WF]',\n",
       " 'Internal - Sold by (DA)',\n",
       " ' Doctor - Pre-onboarding completed [Batch]',\n",
       " 'Doctor - Bought website service? [Batch]',\n",
       " 'Doctor - Health Group [WF]',\n",
       " 'Doctor - Last CS Owner [WF]',\n",
       " 'Doctor - Onboarding owner (CX) [WF]',\n",
       " 'Doctor - Sold with website [Manual]',\n",
       " 'Doctor - Stage in the process [WF]',\n",
       " 'Doctor/Facility - Lifecycle stage [WF]',\n",
       " 'Doctor/Facility - Onboarding type [WF/manual]',\n",
       " 'Doctor/Facility - Payment method [Batch]',\n",
       " 'Docplanner Category [batch]']"
      ]
     },
     "execution_count": 16,
     "metadata": {},
     "output_type": "execute_result"
    }
   ],
   "source": [
    "non_numeric_columns=list(general.select_dtypes(exclude=[np.number]).columns)\n",
    "non_numeric_columns"
   ]
  },
  {
   "cell_type": "code",
   "execution_count": 17,
   "metadata": {},
   "outputs": [
    {
     "ename": "TypeError",
     "evalue": "'<' not supported between instances of 'str' and 'float'",
     "output_type": "error",
     "traceback": [
      "\u001b[1;31m---------------------------------------------------------------------------\u001b[0m",
      "\u001b[1;31mTypeError\u001b[0m                                 Traceback (most recent call last)",
      "\u001b[1;32m<ipython-input-17-0153418820aa>\u001b[0m in \u001b[0;36m<module>\u001b[1;34m\u001b[0m\n\u001b[0;32m      2\u001b[0m \u001b[1;33m\u001b[0m\u001b[0m\n\u001b[0;32m      3\u001b[0m \u001b[1;32mfor\u001b[0m \u001b[0mcol\u001b[0m \u001b[1;32min\u001b[0m \u001b[0mnon_numeric_columns\u001b[0m\u001b[1;33m:\u001b[0m\u001b[1;33m\u001b[0m\u001b[1;33m\u001b[0m\u001b[0m\n\u001b[1;32m----> 4\u001b[1;33m     \u001b[0mgeneral\u001b[0m\u001b[1;33m[\u001b[0m\u001b[0mcol\u001b[0m\u001b[1;33m]\u001b[0m\u001b[1;33m=\u001b[0m\u001b[0mle\u001b[0m\u001b[1;33m.\u001b[0m\u001b[0mfit_transform\u001b[0m\u001b[1;33m(\u001b[0m\u001b[0mgeneral\u001b[0m\u001b[1;33m[\u001b[0m\u001b[0mcol\u001b[0m\u001b[1;33m]\u001b[0m\u001b[1;33m)\u001b[0m\u001b[1;33m\u001b[0m\u001b[1;33m\u001b[0m\u001b[0m\n\u001b[0m\u001b[0;32m      5\u001b[0m \u001b[1;33m\u001b[0m\u001b[0m\n\u001b[0;32m      6\u001b[0m \u001b[0mgeneral\u001b[0m\u001b[1;33m.\u001b[0m\u001b[0mhead\u001b[0m\u001b[1;33m(\u001b[0m\u001b[1;33m)\u001b[0m\u001b[1;33m\u001b[0m\u001b[1;33m\u001b[0m\u001b[0m\n",
      "\u001b[1;32m~\\AppData\\Roaming\\Python\\Python37\\site-packages\\sklearn\\preprocessing\\label.py\u001b[0m in \u001b[0;36mfit_transform\u001b[1;34m(self, y)\u001b[0m\n\u001b[0;32m    234\u001b[0m         \"\"\"\n\u001b[0;32m    235\u001b[0m         \u001b[0my\u001b[0m \u001b[1;33m=\u001b[0m \u001b[0mcolumn_or_1d\u001b[0m\u001b[1;33m(\u001b[0m\u001b[0my\u001b[0m\u001b[1;33m,\u001b[0m \u001b[0mwarn\u001b[0m\u001b[1;33m=\u001b[0m\u001b[1;32mTrue\u001b[0m\u001b[1;33m)\u001b[0m\u001b[1;33m\u001b[0m\u001b[1;33m\u001b[0m\u001b[0m\n\u001b[1;32m--> 236\u001b[1;33m         \u001b[0mself\u001b[0m\u001b[1;33m.\u001b[0m\u001b[0mclasses_\u001b[0m\u001b[1;33m,\u001b[0m \u001b[0my\u001b[0m \u001b[1;33m=\u001b[0m \u001b[0m_encode\u001b[0m\u001b[1;33m(\u001b[0m\u001b[0my\u001b[0m\u001b[1;33m,\u001b[0m \u001b[0mencode\u001b[0m\u001b[1;33m=\u001b[0m\u001b[1;32mTrue\u001b[0m\u001b[1;33m)\u001b[0m\u001b[1;33m\u001b[0m\u001b[1;33m\u001b[0m\u001b[0m\n\u001b[0m\u001b[0;32m    237\u001b[0m         \u001b[1;32mreturn\u001b[0m \u001b[0my\u001b[0m\u001b[1;33m\u001b[0m\u001b[1;33m\u001b[0m\u001b[0m\n\u001b[0;32m    238\u001b[0m \u001b[1;33m\u001b[0m\u001b[0m\n",
      "\u001b[1;32m~\\AppData\\Roaming\\Python\\Python37\\site-packages\\sklearn\\preprocessing\\label.py\u001b[0m in \u001b[0;36m_encode\u001b[1;34m(values, uniques, encode)\u001b[0m\n\u001b[0;32m    106\u001b[0m     \"\"\"\n\u001b[0;32m    107\u001b[0m     \u001b[1;32mif\u001b[0m \u001b[0mvalues\u001b[0m\u001b[1;33m.\u001b[0m\u001b[0mdtype\u001b[0m \u001b[1;33m==\u001b[0m \u001b[0mobject\u001b[0m\u001b[1;33m:\u001b[0m\u001b[1;33m\u001b[0m\u001b[1;33m\u001b[0m\u001b[0m\n\u001b[1;32m--> 108\u001b[1;33m         \u001b[1;32mreturn\u001b[0m \u001b[0m_encode_python\u001b[0m\u001b[1;33m(\u001b[0m\u001b[0mvalues\u001b[0m\u001b[1;33m,\u001b[0m \u001b[0muniques\u001b[0m\u001b[1;33m,\u001b[0m \u001b[0mencode\u001b[0m\u001b[1;33m)\u001b[0m\u001b[1;33m\u001b[0m\u001b[1;33m\u001b[0m\u001b[0m\n\u001b[0m\u001b[0;32m    109\u001b[0m     \u001b[1;32melse\u001b[0m\u001b[1;33m:\u001b[0m\u001b[1;33m\u001b[0m\u001b[1;33m\u001b[0m\u001b[0m\n\u001b[0;32m    110\u001b[0m         \u001b[1;32mreturn\u001b[0m \u001b[0m_encode_numpy\u001b[0m\u001b[1;33m(\u001b[0m\u001b[0mvalues\u001b[0m\u001b[1;33m,\u001b[0m \u001b[0muniques\u001b[0m\u001b[1;33m,\u001b[0m \u001b[0mencode\u001b[0m\u001b[1;33m)\u001b[0m\u001b[1;33m\u001b[0m\u001b[1;33m\u001b[0m\u001b[0m\n",
      "\u001b[1;32m~\\AppData\\Roaming\\Python\\Python37\\site-packages\\sklearn\\preprocessing\\label.py\u001b[0m in \u001b[0;36m_encode_python\u001b[1;34m(values, uniques, encode)\u001b[0m\n\u001b[0;32m     61\u001b[0m     \u001b[1;31m# only used in _encode below, see docstring there for details\u001b[0m\u001b[1;33m\u001b[0m\u001b[1;33m\u001b[0m\u001b[1;33m\u001b[0m\u001b[0m\n\u001b[0;32m     62\u001b[0m     \u001b[1;32mif\u001b[0m \u001b[0muniques\u001b[0m \u001b[1;32mis\u001b[0m \u001b[1;32mNone\u001b[0m\u001b[1;33m:\u001b[0m\u001b[1;33m\u001b[0m\u001b[1;33m\u001b[0m\u001b[0m\n\u001b[1;32m---> 63\u001b[1;33m         \u001b[0muniques\u001b[0m \u001b[1;33m=\u001b[0m \u001b[0msorted\u001b[0m\u001b[1;33m(\u001b[0m\u001b[0mset\u001b[0m\u001b[1;33m(\u001b[0m\u001b[0mvalues\u001b[0m\u001b[1;33m)\u001b[0m\u001b[1;33m)\u001b[0m\u001b[1;33m\u001b[0m\u001b[1;33m\u001b[0m\u001b[0m\n\u001b[0m\u001b[0;32m     64\u001b[0m         \u001b[0muniques\u001b[0m \u001b[1;33m=\u001b[0m \u001b[0mnp\u001b[0m\u001b[1;33m.\u001b[0m\u001b[0marray\u001b[0m\u001b[1;33m(\u001b[0m\u001b[0muniques\u001b[0m\u001b[1;33m,\u001b[0m \u001b[0mdtype\u001b[0m\u001b[1;33m=\u001b[0m\u001b[0mvalues\u001b[0m\u001b[1;33m.\u001b[0m\u001b[0mdtype\u001b[0m\u001b[1;33m)\u001b[0m\u001b[1;33m\u001b[0m\u001b[1;33m\u001b[0m\u001b[0m\n\u001b[0;32m     65\u001b[0m     \u001b[1;32mif\u001b[0m \u001b[0mencode\u001b[0m\u001b[1;33m:\u001b[0m\u001b[1;33m\u001b[0m\u001b[1;33m\u001b[0m\u001b[0m\n",
      "\u001b[1;31mTypeError\u001b[0m: '<' not supported between instances of 'str' and 'float'"
     ]
    }
   ],
   "source": [
    "le=LabelEncoder()\n",
    "\n",
    "for col in non_numeric_columns:\n",
    "    general[col]=le.fit_transform(general[col])\n",
    "\n",
    "general.head()"
   ]
  },
  {
   "cell_type": "markdown",
   "metadata": {},
   "source": [
    "# CausalNex\n",
    "CasualNex will be used to estimate if a customer becomes churn, based on the characteristics provided by local CRM (variables)"
   ]
  },
  {
   "cell_type": "code",
   "execution_count": null,
   "metadata": {},
   "outputs": [],
   "source": [
    "# Model Initialization\n",
    "sm = StructureModel()\n",
    "sm"
   ]
  },
  {
   "cell_type": "code",
   "execution_count": null,
   "metadata": {},
   "outputs": [],
   "source": [
    "general.drop(columns = ['Doctor - Bought website service? [Batch]', 'Contact ID'], inplace = True) # droping non reliablevariables as it doesn't contain numbers"
   ]
  },
  {
   "cell_type": "code",
   "execution_count": null,
   "metadata": {},
   "outputs": [],
   "source": [
    "# Non numerical columns for label encodel\n",
    "non_numeric_columns=list(general.select_dtypes(exclude=[np.number]).columns)\n",
    "non_numeric_columns"
   ]
  },
  {
   "cell_type": "code",
   "execution_count": null,
   "metadata": {},
   "outputs": [],
   "source": [
    "sns.heatmap(general.corr());"
   ]
  },
  {
   "cell_type": "code",
   "execution_count": null,
   "metadata": {},
   "outputs": [],
   "source": [
    "general.columns"
   ]
  },
  {
   "cell_type": "code",
   "execution_count": null,
   "metadata": {},
   "outputs": [],
   "source": [
    "# counter to erase columns with more categories\n",
    "for i in general.columns:\n",
    "    if len(general[i].unique())>100:\n",
    "        print(i, len(general[i].unique()))"
   ]
  },
  {
   "cell_type": "code",
   "execution_count": null,
   "metadata": {},
   "outputs": [],
   "source": [
    "general1 = general.drop(columns = ['Contact owner','City',\n",
    "                                  'Internal - Last Sales Owner [WF]', 'Internal - Sold by (DA)']) # droping columns obtained on the previous line\n",
    "sm = from_pandas(general1) # initializing model with data "
   ]
  },
  {
   "cell_type": "code",
   "execution_count": null,
   "metadata": {},
   "outputs": [],
   "source": [
    "from causalnex.plots import plot_structure\n",
    "# Plotting general connections calculated with causality \n",
    "fig, ax, nodes=plot_structure(sm)"
   ]
  },
  {
   "cell_type": "code",
   "execution_count": null,
   "metadata": {},
   "outputs": [],
   "source": [
    "# Plotting most relevant connections, weight greater than .8\n",
    "plt.rcParams['figure.figsize'] = (10.0, 6.0)\n",
    "sm.remove_edges_below_threshold(.8)\n",
    "fig , ax  , nodes = plot_structure(sm);"
   ]
  },
  {
   "cell_type": "code",
   "execution_count": null,
   "metadata": {},
   "outputs": [],
   "source": [
    "## Memory Optimization\n",
    "for i in general1.select_dtypes('integer').columns:\n",
    "    general[i] = pd.to_numeric(general1[i], downcast = 'integer')\n",
    "general1.info(memory_usage = 'deep')"
   ]
  },
  {
   "cell_type": "code",
   "execution_count": null,
   "metadata": {},
   "outputs": [],
   "source": [
    "bn = BayesianNetwork(sm) # Bayesian Network initialized "
   ]
  },
  {
   "cell_type": "code",
   "execution_count": null,
   "metadata": {},
   "outputs": [],
   "source": [
    "bn = bn.fit_node_states(general1)  # Training the model with all the data base to avoid splitting nodes"
   ]
  },
  {
   "cell_type": "code",
   "execution_count": null,
   "metadata": {},
   "outputs": [],
   "source": [
    "bn = bn.fit_cpds(general1, method = 'BayesianEstimator', bayes_prior = 'K2' ) # Probability calculations for nodes using Bayesian estimator with dirichlet conditions as pseudo _counts = 1"
   ]
  },
  {
   "cell_type": "code",
   "execution_count": null,
   "metadata": {},
   "outputs": [],
   "source": [
    "bn.cpds['Docplanner Category [batch]']  # probabilies for one of the most important variables with node combinations"
   ]
  },
  {
   "cell_type": "code",
   "execution_count": null,
   "metadata": {},
   "outputs": [],
   "source": [
    "z = bn.cpds['Docplanner Category [batch]']\n",
    "z.shape"
   ]
  },
  {
   "cell_type": "code",
   "execution_count": null,
   "metadata": {},
   "outputs": [],
   "source": [
    "predictions=bn.predict(general1, 'Docplanner Category [batch]') # Predicting, next category for every contact"
   ]
  },
  {
   "cell_type": "code",
   "execution_count": null,
   "metadata": {},
   "outputs": [],
   "source": [
    "predictions1 = bn.predict(general1, 'Doctor - Commercial [Batch]') # Predicting if every contact will become a churn or not "
   ]
  },
  {
   "cell_type": "code",
   "execution_count": null,
   "metadata": {},
   "outputs": [],
   "source": [
    "classification_report(bn, general1, 'Docplanner Category [batch]') # Classification for all categories"
   ]
  },
  {
   "cell_type": "code",
   "execution_count": null,
   "metadata": {},
   "outputs": [],
   "source": [
    "# Categories Distribution\n",
    "labels, counts=np.unique(general1['Docplanner Category [batch]'], return_counts=True)\n",
    "list(zip(labels, counts)) "
   ]
  },
  {
   "cell_type": "markdown",
   "metadata": {},
   "source": [
    "# Survivial Method"
   ]
  },
  {
   "cell_type": "code",
   "execution_count": null,
   "metadata": {},
   "outputs": [],
   "source": [
    "# Invoices Data\n",
    "churn_dwh = pd.read_csv('C:/Users/Data Analyst/Documents/Otros/Proyecto churn/batch0.csv') # Churn invoice data\n",
    "nochurn_dwh1 = pd.read_csv('C:/Users/Data Analyst/Documents/Otros/Proyecto churn/batch1.csv')# Not Churn invoice data"
   ]
  },
  {
   "cell_type": "code",
   "execution_count": null,
   "metadata": {},
   "outputs": [],
   "source": [
    "churn_dwh.head(2)"
   ]
  },
  {
   "cell_type": "code",
   "execution_count": null,
   "metadata": {},
   "outputs": [],
   "source": [
    "nochurn_dwh1.head(2)"
   ]
  },
  {
   "cell_type": "code",
   "execution_count": null,
   "metadata": {},
   "outputs": [],
   "source": [
    "dwh = churn_dwh.append(nochurn_dwh1, ignore_index = True) # Invoice append for churn and no churn "
   ]
  },
  {
   "cell_type": "code",
   "execution_count": null,
   "metadata": {},
   "outputs": [],
   "source": [
    "dwh.head(2)"
   ]
  },
  {
   "cell_type": "code",
   "execution_count": null,
   "metadata": {},
   "outputs": [],
   "source": [
    "dwh.shape"
   ]
  },
  {
   "cell_type": "code",
   "execution_count": null,
   "metadata": {},
   "outputs": [],
   "source": [
    "# Left function to extract only the date \n",
    "dwh['min_commercial_from'] = dwh.commercial_from.str[:10]\n",
    "dwh['max_commercial_from'] = dwh.last_commercial.str[:10]"
   ]
  },
  {
   "cell_type": "code",
   "execution_count": null,
   "metadata": {},
   "outputs": [],
   "source": [
    "dwh['min_commercial_from']=pd.to_datetime(dwh['min_commercial_from'],format='%Y-%m-%d') # Date format\n",
    "dwh['max_commercial_from']=pd.to_datetime(dwh['max_commercial_from'],format='%Y-%m-%d') # Date Format\n",
    "dwh['tenure'] = dwh['max_commercial_from'] - dwh['min_commercial_from'] # Tenure Calculation\n",
    "dwh.tenure = dwh.tenure.apply(lambda x: x.days)  # Tenure as a number "
   ]
  },
  {
   "cell_type": "code",
   "execution_count": null,
   "metadata": {},
   "outputs": [],
   "source": [
    "dwh.drop(columns = ['commercial_from', 'last_commercial'])\n",
    "dwh.head(2)"
   ]
  },
  {
   "cell_type": "code",
   "execution_count": null,
   "metadata": {
    "scrolled": true
   },
   "outputs": [],
   "source": [
    "# Tenure distribution\n",
    "import plotly.express as px\n",
    "fig = px.histogram(dwh, x = 'tenure')\n",
    "fig.show()"
   ]
  },
  {
   "cell_type": "code",
   "execution_count": null,
   "metadata": {},
   "outputs": [],
   "source": [
    "# Merging Invoice database with general database so every client has a tenure \n",
    "total=pd.merge(churn_nochurn,dwh, left_on = 'Contact ID', right_on = 'hubspot_id')\n",
    "total.shape"
   ]
  },
  {
   "cell_type": "code",
   "execution_count": null,
   "metadata": {},
   "outputs": [],
   "source": [
    "total.fillna('-',inplace = True) # Filling null values\n",
    "total.isnull().sum()"
   ]
  },
  {
   "cell_type": "markdown",
   "metadata": {},
   "source": [
    "# Kaplan Meier"
   ]
  },
  {
   "cell_type": "code",
   "execution_count": null,
   "metadata": {},
   "outputs": [],
   "source": [
    "# Kaplan Meier Funtion for survival Method\n",
    "def survival(data, group_field, time_field, event_field):\n",
    "    \n",
    "    modelo=KaplanMeierFitter()\n",
    "    \n",
    "    res=[]\n",
    "    for i in data[group_field].unique():\n",
    "        grupo=data[data[group_field]==i]\n",
    "        t=grupo[time_field]\n",
    "        e=grupo[event_field]\n",
    "        \n",
    "        modelo.fit(t, e, label=str(i))\n",
    "        \n",
    "        res.append(modelo.survival_function_)\n",
    "        \n",
    "    survival=pd.concat(res, axis=1)\n",
    "    return survival"
   ]
  },
  {
   "cell_type": "code",
   "execution_count": null,
   "metadata": {},
   "outputs": [],
   "source": [
    "rates = survival(total, 'Docplanner Category [batch]','tenure' , 'Doctor - Commercial [Batch]')"
   ]
  },
  {
   "cell_type": "code",
   "execution_count": null,
   "metadata": {},
   "outputs": [],
   "source": [
    "# Survival Graphics for categories\n",
    "rates.iplot(kind='line', xTitle='Permanencia días', \n",
    "            yTitle='Tasa de retención', title='Tasa de retención por permanencia y categoría')"
   ]
  },
  {
   "cell_type": "code",
   "execution_count": null,
   "metadata": {},
   "outputs": [],
   "source": [
    "# Survival Graphics for Calendar\n",
    "rates = survival(total, 'Doctor - Has calendar [Batch]','tenure' , 'Doctor - Commercial [Batch]')\n",
    "rates.iplot(kind='line', xTitle='Permanencia días', \n",
    "            yTitle='Tasa de retención', title='Tasa de retención por permanencia y calendario(Y/N)')"
   ]
  },
  {
   "cell_type": "code",
   "execution_count": null,
   "metadata": {},
   "outputs": [],
   "source": [
    "# Survival Graphics for Group\n",
    "rates = survival(total, 'Doctor - Health Group [WF]','tenure' , 'Doctor - Commercial [Batch]')\n",
    "rates.iplot(kind='line', xTitle='Permanencia días', \n",
    "            yTitle='Tasa de retención', title='Tasa de retención por permanencia y Health Group')"
   ]
  }
 ],
 "metadata": {
  "kernelspec": {
   "display_name": "Python 3",
   "language": "python",
   "name": "python3"
  },
  "language_info": {
   "codemirror_mode": {
    "name": "ipython",
    "version": 3
   },
   "file_extension": ".py",
   "mimetype": "text/x-python",
   "name": "python",
   "nbconvert_exporter": "python",
   "pygments_lexer": "ipython3",
   "version": "3.7.4"
  }
 },
 "nbformat": 4,
 "nbformat_minor": 2
}
